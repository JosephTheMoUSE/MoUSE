{
 "cells": [
  {
   "cell_type": "markdown",
   "id": "05671632",
   "metadata": {},
   "source": [
    "# HDBSCAN"
   ]
  },
  {
   "cell_type": "code",
   "execution_count": null,
   "id": "fa6554e5",
   "metadata": {},
   "outputs": [],
   "source": [
    "!pip3 install hdbscan"
   ]
  },
  {
   "cell_type": "code",
   "execution_count": null,
   "id": "0bfade2a",
   "metadata": {},
   "outputs": [],
   "source": [
    "import mouse.utils.constants as const\n",
    "from mouse.utils import data_util\n",
    "from mouse.utils import sound_util\n",
    "import matplotlib.pyplot as plt\n",
    "import numpy as np\n",
    "import torch\n",
    "import hdbscan\n",
    "from scipy import ndimage\n",
    "from tqdm.notebook import tqdm\n",
    "from time import time"
   ]
  },
  {
   "cell_type": "code",
   "execution_count": null,
   "id": "9157d509",
   "metadata": {},
   "outputs": [],
   "source": [
    "data_folder: data_util.DataFolder = data_util.load_data([const.DATA_VPA])[0]\n",
    "    \n",
    "l = data_folder.signals[0].signal.shape[0]\n",
    "squeak_signal = data_folder.signals[0].signal[int(l*3.8/120):int(l*5./120)]\n",
    "\n",
    "%matplotlib inline\n",
    "spec = sound_util.spectrogram(squeak_signal)\n",
    "f, t, spec = spec.freqs, spec.times, spec.spec\n",
    "spec = spec[f>18000,:]\n",
    "plt.imshow(np.log(spec))\n",
    "plt.show()\n",
    "spec.shape"
   ]
  },
  {
   "cell_type": "code",
   "execution_count": null,
   "id": "6af9c439",
   "metadata": {},
   "outputs": [],
   "source": [
    "def add_coords(spec):\n",
    "    y = np.vstack([np.arange(spec.shape[0])]*spec.shape[1]).T\n",
    "    x = np.vstack([np.arange(spec.shape[1])]*spec.shape[0])\n",
    "    return np.dstack([spec, x, y])\n",
    "    \n",
    "add_coords(spec)[:2,:2, :].reshape(-1, 3)"
   ]
  },
  {
   "cell_type": "code",
   "execution_count": null,
   "id": "122e30be",
   "metadata": {},
   "outputs": [],
   "source": [
    "points = add_coords(spec).reshape(-1, 3)\n",
    "np.max(points, axis=0), np.min(points[:, 0]), np.median(points[:, 0]), np.mean(points[:, 0])"
   ]
  },
  {
   "cell_type": "code",
   "execution_count": null,
   "id": "5ff8221a",
   "metadata": {},
   "outputs": [],
   "source": [
    "mult = 10\n",
    "X = np.copy(points)\n",
    "# X[:, 0] = np.log(X[:, 0])\n",
    "# X[:, 0] = ndimage.median_filter(X[:, 0], 5)\n",
    "X[:, 0] *= mult\n",
    "\n",
    "clusterer = hdbscan.HDBSCAN(algorithm='best', alpha=1.0, approx_min_span_tree=True,\n",
    "    gen_min_span_tree=False, leaf_size=40,\n",
    "    metric='euclidean', min_cluster_size=40, min_samples=None, p=None)\n",
    "t = time()\n",
    "clusterer.fit(X)\n",
    "X[:, 0] /= mult\n",
    "print(time() - t, \"[s]\")\n",
    "\n",
    "clusterer.labels_"
   ]
  },
  {
   "cell_type": "code",
   "execution_count": null,
   "id": "3f5a7fa0",
   "metadata": {},
   "outputs": [],
   "source": [
    "res = np.zeros(spec.shape, dtype=np.int64)\n",
    "for i in range(spec.shape[1]):\n",
    "    for j in range(spec.shape[0]):\n",
    "        res[j, i] = clusterer.labels_[i+1172*j]\n",
    "plt.imshow(res)\n",
    "plt.show()\n",
    "set(res.ravel())"
   ]
  },
  {
   "cell_type": "code",
   "execution_count": null,
   "id": "0fdda3e5",
   "metadata": {},
   "outputs": [],
   "source": [
    "for i in set(clusterer.labels_):\n",
    "    print(\"label\", i, \" | count\", np.sum(i==res))\n",
    "    plt.imshow(res==i)\n",
    "    plt.show()"
   ]
  },
  {
   "cell_type": "markdown",
   "id": "02f4b6d8",
   "metadata": {},
   "source": [
    "Conclusion: hdbscan could work, but it is slow. Other methods are better"
   ]
  },
  {
   "cell_type": "code",
   "execution_count": null,
   "id": "784a3d40",
   "metadata": {},
   "outputs": [],
   "source": []
  }
 ],
 "metadata": {
  "kernelspec": {
   "display_name": "Python 3",
   "language": "python",
   "name": "python3"
  },
  "language_info": {
   "codemirror_mode": {
    "name": "ipython",
    "version": 3
   },
   "file_extension": ".py",
   "mimetype": "text/x-python",
   "name": "python",
   "nbconvert_exporter": "python",
   "pygments_lexer": "ipython3",
   "version": "3.7.3"
  }
 },
 "nbformat": 4,
 "nbformat_minor": 5
}
