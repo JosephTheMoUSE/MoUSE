{
 "cells": [
  {
   "cell_type": "code",
   "execution_count": null,
   "id": "21ab710c",
   "metadata": {},
   "outputs": [],
   "source": [
    "from itertools import product\n",
    "from time import time\n",
    "from copy import deepcopy\n",
    "from collections import defaultdict\n",
    "\n",
    "import matplotlib.pyplot as plt\n",
    "import torchaudio\n",
    "import torchaudio.functional as F\n",
    "import torchaudio.transforms as T\n",
    "import numpy as np\n",
    "import torch\n",
    "from tqdm.notebook import tqdm\n",
    "import pandas as pd\n",
    "\n",
    "from scipy import ndimage\n",
    "from skimage.measure import find_contours\n",
    "from skimage.segmentation import mark_boundaries\n",
    "from skimage import segmentation\n",
    "from skimage.util import img_as_float\n",
    "import cv2\n",
    "from skimage import data\n",
    "from skimage.segmentation import (morphological_geodesic_active_contour,\n",
    "                                  inverse_gaussian_gradient,\n",
    "                                  checkerboard_level_set)\n",
    "\n",
    "import mouse.utils.constants as const\n",
    "from mouse.utils import data_util\n",
    "from mouse.utils import sound_util\n",
    "from mouse import segmentation as mouse_seg\n",
    "from mouse.utils import visualization\n",
    "from mouse.utils import metrics"
   ]
  },
  {
   "cell_type": "code",
   "execution_count": null,
   "id": "011e6ee4",
   "metadata": {},
   "outputs": [],
   "source": [
    "data_folder: data_util.DataFolder = data_util.load_data(const.LABELED_SOURCES)[0]"
   ]
  },
  {
   "cell_type": "code",
   "execution_count": null,
   "id": "8d8c035d",
   "metadata": {},
   "outputs": [],
   "source": [
    "n_fft=512\n",
    "win_length=256#64\n",
    "hop_length=128\n",
    "\n",
    "squeak_signal = data_folder.signals[0]\n",
    "\n",
    "spec = sound_util.signal_spectrogram(squeak_signal, start=0., end=.1,\n",
    "                                                  n_fft=n_fft,\n",
    "                                              win_length=win_length,\n",
    "                                              hop_length=hop_length)\n",
    "spec.spec = spec.spec[spec.freqs>18000,:]\n",
    "spec.freqs = spec.freqs[spec.freqs>18000]"
   ]
  },
  {
   "cell_type": "code",
   "execution_count": null,
   "id": "f45fc03f",
   "metadata": {},
   "outputs": [],
   "source": [
    "spec_log = deepcopy(spec)\n",
    "spec_log.spec = np.log10(spec.spec)"
   ]
  },
  {
   "cell_type": "code",
   "execution_count": null,
   "id": "7cefba04",
   "metadata": {},
   "outputs": [],
   "source": [
    "results_by_method = {}"
   ]
  },
  {
   "cell_type": "code",
   "execution_count": null,
   "id": "270cc319",
   "metadata": {},
   "outputs": [],
   "source": [
    "boxes = mouse_seg.find_USVs(spec)\n",
    "results_by_method[\"basic GAC segmentation\"] = boxes"
   ]
  },
  {
   "cell_type": "code",
   "execution_count": null,
   "id": "5e2cba10",
   "metadata": {},
   "outputs": [],
   "source": [
    "boxes = mouse_seg.find_USVs(spec_log)\n",
    "results_by_method[\"basic GAC segmentation with log preprocessing\"] = boxes"
   ]
  },
  {
   "cell_type": "code",
   "execution_count": null,
   "id": "4e5ac91b",
   "metadata": {},
   "outputs": [],
   "source": [
    "# get real squeaks\n",
    "real_squeaks = data_util.load_squeak_boxes(data_folder, squeak_signal.name, spec)"
   ]
  },
  {
   "cell_type": "code",
   "execution_count": null,
   "id": "16963cdf",
   "metadata": {},
   "outputs": [],
   "source": [
    "for name, boxes in results_by_method.items():\n",
    "    print(name, len(boxes))"
   ]
  },
  {
   "cell_type": "code",
   "execution_count": null,
   "id": "698c139c",
   "metadata": {},
   "outputs": [],
   "source": [
    "len(real_squeaks)"
   ]
  },
  {
   "cell_type": "code",
   "execution_count": null,
   "id": "630b8bdd",
   "metadata": {},
   "outputs": [],
   "source": [
    "# t = time()\n",
    "# res = metrics.intersection_over_union_elementwise(cover=real_squeaks, \n",
    "#                                             target=results_by_method['basic GAC segmentation'])\n",
    "# print(time() - t)\n",
    "# len(res)"
   ]
  },
  {
   "cell_type": "code",
   "execution_count": null,
   "id": "a05ed31f",
   "metadata": {},
   "outputs": [],
   "source": [
    "def compare(results_by_method: dict, real_squeaks):\n",
    "    comparison = defaultdict(dict)\n",
    "    for name, boxes in tqdm(results_by_method.items()):\n",
    "#         comparison['element precision'] = metrics.intersection_over_union_elementwise(target=real_squeaks, cover=boxes)\n",
    "        comparison[name]['IoU'] = metrics.intersection_over_union_global(ground_truth=real_squeaks, prediction=boxes, axis=0)\n",
    "        cover_recall, cover_precision = metrics.coverage(squeaks_1=real_squeaks, squeaks_2=boxes)\n",
    "        comparison[name]['Cover_recall'] = cover_recall\n",
    "        comparison[name]['Cover_precision'] = cover_precision\n",
    "        comparison[name]['Cover_f1'] = 2 * cover_precision * cover_recall / (cover_precision + cover_recall)\n",
    "        \n",
    "#         comparison['element recall'] = metrics.intersection_over_union_elementwise(cover=real_squeaks, target=boxes)\n",
    "        \n",
    "    return pd.DataFrame(comparison)\n",
    "\n",
    "compare(results_by_method, real_squeaks)"
   ]
  },
  {
   "cell_type": "code",
   "execution_count": null,
   "id": "f21d1d9f",
   "metadata": {},
   "outputs": [],
   "source": []
  }
 ],
 "metadata": {
  "kernelspec": {
   "display_name": "Python 3",
   "language": "python",
   "name": "python3"
  },
  "language_info": {
   "codemirror_mode": {
    "name": "ipython",
    "version": 3
   },
   "file_extension": ".py",
   "mimetype": "text/x-python",
   "name": "python",
   "nbconvert_exporter": "python",
   "pygments_lexer": "ipython3",
   "version": "3.7.3"
  }
 },
 "nbformat": 4,
 "nbformat_minor": 5
}