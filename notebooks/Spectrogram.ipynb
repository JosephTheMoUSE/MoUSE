{
 "cells": [
  {
   "cell_type": "markdown",
   "source": [
    "# Detection and Classification of Ultrasonic Vocalizations (USVs) in Rodent Audio Data\n",
    "\n",
    "In this notebook, we will demonstrate how to **detect** and **classify** ultrasonic vocalizations (USVs) in rodent audio recordings using spectrogram analysis, Geodesic Active Contours (GAC) for segmentation, and a Convolutional Neural Network (CNN) for classification.\n",
    "\n",
    "## Overview\n",
    "\n",
    "- **Load Audio Data**: Start by loading an audio file containing rodent vocalizations.\n",
    "- **Generate Spectrogram**: Create a spectrogram of a selected segment of the audio data to visualize the frequency content over time.\n",
    "- **Detect USVs**: Use Geodesic Active Contours (GAC) to detect potential USVs in the spectrogram.\n",
    "- **Classify USVs**: Classify the detected USVs using a pre-trained CNN model to distinguish between different types of vocalizations."
   ],
   "metadata": {
    "collapsed": false
   },
   "id": "76a8471040a4d096"
  },
  {
   "cell_type": "markdown",
   "source": [
    "## Importing Libraries\n",
    "\n",
    "We begin by importing the necessary libraries:\n",
    "\n",
    "- **torchaudio**: For loading and processing audio data.\n",
    "- **matplotlib.pyplot**: For plotting and visualizing data.\n",
    "- **mouse.utils**, **mouse.segmentation**, **mouse.classifier**: Custom modules for sound utilities, segmentation, and classification specific to mouse USVs.\n",
    "- **pathlib**, **os**: For handling file paths and operating system interactions.\n",
    "- **typing**, **functools**, **copy**, **tqdm**: For type annotations, function tools, copying objects, and progress bars.\n"
   ],
   "metadata": {
    "collapsed": false
   },
   "id": "7f03c057c184ea0"
  },
  {
   "cell_type": "code",
   "execution_count": 92,
   "id": "030bd0e4-4aa3-491b-90e2-78238eae4c09",
   "metadata": {
    "ExecuteTime": {
     "end_time": "2024-11-22T12:08:24.316758Z",
     "start_time": "2024-11-22T12:08:24.299478Z"
    }
   },
   "outputs": [],
   "source": [
    "import torchaudio\n",
    "import matplotlib.pyplot as plt\n",
    "from mouse.utils import sound_util, visualization, data_util\n",
    "from mouse.segmentation import segmentation, GAC\n",
    "from mouse.classifier import cnn_classifier\n",
    "import pathlib\n",
    "from typing import List, Dict, Optional, Callable\n",
    "from functools import partial\n",
    "import copy\n",
    "from tqdm import tqdm\n",
    "import os"
   ]
  },
  {
   "cell_type": "markdown",
   "source": [
    "## Loading the Audio File\n",
    "We will load the audio file containing the rodent vocalizations.\n",
    "\n",
    "### Note\n",
    "Please ensure that the audio file `long-example-rodent.wav` or `short-example-rodent.wav` is present in your working directory."
   ],
   "metadata": {
    "collapsed": false
   },
   "id": "f64eb4c99cccbc61"
  },
  {
   "cell_type": "code",
   "execution_count": 93,
   "id": "f30677c4-02c7-4460-af1e-505f4f216c29",
   "metadata": {
    "ExecuteTime": {
     "end_time": "2024-11-22T12:08:24.335342Z",
     "start_time": "2024-11-22T12:08:24.319486Z"
    }
   },
   "outputs": [],
   "source": [
    "file_path = \"long-example-rodent.wav\"\n",
    "waveform, sample_rate = torchaudio.load(file_path)"
   ]
  },
  {
   "cell_type": "markdown",
   "source": [
    "## Generating the Spectrogram\n",
    "\n",
    "Next, we will generate a spectrogram of the audio data to visualize its frequency content over time.\n",
    "\n",
    "### Function Parameters\n",
    "\n",
    "The `generate_spectrogram` function generates and plots a spectrogram for the given signal data.\n",
    "\n",
    "**Parameters:**\n",
    "\n",
    "- `signal_data` (*sound_util.SignalData*): The signal data containing the waveform and sample rate.\n",
    "- `n_fft` (*int*, optional): The size of FFT, creates `n_fft // 2 + 1` bins. Default is `400`.\n",
    "- `win_length` (*int*, optional): Window size. Default is `n_fft`.\n",
    "- `hop_length` (*int*, optional): Length of hop between STFT windows. Default is `win_length // 2`.\n",
    "- `power` (*float*, optional): Exponent for the magnitude spectrogram. Default is `2.0`.\n",
    "- `center` (*bool*, optional): Whether to pad the input on both sides so that the `t`-th frame is centered at time `t * hop_length`. Default is `True`.\n",
    "- `pad_mode` (*str*, optional): Controls the padding method used when `center` is `True`. Default is `'reflect'`.\n",
    "- `vmax` (*float*, optional): The maximum value for the color scale in the spectrogram plot. Default is `5`.\n",
    "- `t_start` (*float*, optional): The start time (in seconds) for the spectrogram. Default is `None` (start from the beginning).\n",
    "- `t_end` (*float*, optional): The end time (in seconds) for the spectrogram. Default is `None` (go until the end).\n",
    "\n",
    "**Returns:**\n",
    "\n",
    "- `spec_data` (*sound_util.SpectrogramData*): The spectrogram data object containing the spectrogram and related information."
   ],
   "metadata": {
    "collapsed": false
   },
   "id": "e542757f195fb5e7"
  },
  {
   "cell_type": "code",
   "execution_count": 94,
   "id": "f92a0e28-51e9-438c-858c-8905600f1fdf",
   "metadata": {
    "ExecuteTime": {
     "end_time": "2024-11-22T12:08:24.341598Z",
     "start_time": "2024-11-22T12:08:24.336476Z"
    }
   },
   "outputs": [],
   "source": [
    "def generate_spectrogram(\n",
    "    signal_data: sound_util.SignalData,\n",
    "    n_fft=400,\n",
    "    win_length=None,\n",
    "    hop_length=None,\n",
    "    power=2.0,\n",
    "    center=True,\n",
    "    pad_mode='reflect',\n",
    "    vmax=5,\n",
    "    t_start: Optional[float] = None,\n",
    "    t_end: Optional[float] = None\n",
    "):\n",
    "    \n",
    "    # Set default window length and hop length if not provided\n",
    "    win_length = n_fft if win_length is None else win_length\n",
    "    hop_length = win_length // 2 if hop_length is None else hop_length\n",
    "\n",
    "    # Create a spectrogram transform\n",
    "    spectrogram_transform = torchaudio.transforms.Spectrogram(\n",
    "        n_fft=n_fft,\n",
    "        win_length=win_length,\n",
    "        hop_length=hop_length,\n",
    "        center=center,\n",
    "        pad_mode=pad_mode,\n",
    "        power=power\n",
    "    )\n",
    "\n",
    "    # Compute the spectrogram for the whole signal\n",
    "    spec_data = sound_util.spectrogram(\n",
    "        signal_data.signal,\n",
    "        sample_rate=signal_data.sample_rate,\n",
    "        spec_calculator=spectrogram_transform,\n",
    "        n_fft=n_fft,\n",
    "        win_length=win_length,\n",
    "        hop_length=hop_length,\n",
    "        power=power\n",
    "    )\n",
    "\n",
    "    # Clip the spectrogram to the selected time window, if specified\n",
    "    if t_start is not None or t_end is not None:\n",
    "        spec_data = sound_util.clip_spectrogram(\n",
    "            spec_data,\n",
    "            t_start=t_start,\n",
    "            t_end=t_end\n",
    "        )\n",
    "\n",
    "    # Plot the spectrogram\n",
    "    fig, ax = plt.subplots(figsize=(10, 6))\n",
    "    ax.set_facecolor('#2e004f')\n",
    "    spectrogram_color_mesh = visualization.draw_spectrogram(\n",
    "        spec_data,\n",
    "        ax=ax,\n",
    "        vmax=vmax\n",
    "    )\n",
    "\n",
    "    fig.colorbar(spectrogram_color_mesh, ax=ax, format='%+2.0f dB')\n",
    "    ax.set_title('Spectrogram', color='white')\n",
    "    ax.set_xlabel('Time [s]', color='white')\n",
    "    ax.set_ylabel('Frequency [kHz]', color='white')\n",
    "    ax.tick_params(colors='white')\n",
    "\n",
    "    fig.patch.set_facecolor('black')\n",
    "    fig.show()\n",
    "    \n",
    "    return spec_data\n"
   ]
  },
  {
   "cell_type": "markdown",
   "source": [
    "### Loading the Signal Data and Generating the Spectrogram\n",
    "\n",
    "We will create a `SignalData` object from the audio file and generate the spectrogram for a specific time window.\n"
   ],
   "metadata": {
    "collapsed": false
   },
   "id": "6da1e9e2c261824b"
  },
  {
   "cell_type": "code",
   "execution_count": 95,
   "id": "7ad77718-6556-4bf6-b285-19a56f974819",
   "metadata": {
    "ExecuteTime": {
     "end_time": "2024-11-22T12:08:24.613538Z",
     "start_time": "2024-11-22T12:08:24.343200Z"
    }
   },
   "outputs": [
    {
     "name": "stdout",
     "output_type": "stream",
     "text": [
      "name: long-example-rodent.wav, length: 9.8863 [s]\n"
     ]
    },
    {
     "name": "stderr",
     "output_type": "stream",
     "text": [
      "/var/folders/l6/wgftfmzx72z5zmyqxrjk74wh0000gn/T/ipykernel_29886/1851535485.py:63: UserWarning: FigureCanvasAgg is non-interactive, and thus cannot be shown\n",
      "  fig.show()\n"
     ]
    },
    {
     "data": {
      "text/plain": "<Figure size 1000x600 with 2 Axes>",
      "image/png": "[encoded data removed]"
     },
     "metadata": {},
     "output_type": "display_data"
    }
   ],
   "source": [
    "# Create a SignalData object from the audio file\n",
    "signal_data = sound_util.SignalData(pathlib.Path(file_path))\n",
    "print(signal_data)\n",
    "\n",
    "# Generate the spectrogram for a specific time window\n",
    "spec_data = generate_spectrogram(\n",
    "    signal_data,\n",
    "    t_start=6.4,  # Start time in seconds\n",
    "    t_end=7    # End time in seconds\n",
    ")"
   ]
  },
  {
   "cell_type": "markdown",
   "source": [
    "## Detecting USVs Using Geodesic Active Contours (GAC)\n",
    "\n",
    "We will use the Geodesic Active Contour (GAC) method to detect USVs in the spectrogram. This method allows us to segment the spectrogram and find regions that correspond to USVs.\n",
    "\n",
    "### Function Parameters\n",
    "\n",
    "The `find_USVs_GAC` function finds USVs on a spectrogram using GAC.\n",
    "\n",
    "**Parameters:**\n",
    "\n",
    "- `spec` (*sound_util.SpectrogramData*): The spectrogram data to search for USVs.\n",
    "- `min_side_length` (*int*): Minimum side length for bounding boxes. Default is `1`.\n",
    "- `filter` (*bool*): Whether to filter USVs' bounding boxes. Default is `True`.\n",
    "- `preprocessing_fn` (*Callable*, optional): Function for preprocessing the spectrogram `spec`. Default is `None`.\n",
    "- `level_set` (*Callable*, optional): Function for generating the initial level set based on preprocessed `spec`. Default is `None`.\n",
    "- `tqdm_kwargs` (*dict*, optional): Keyword arguments for the `tqdm` progress bar. Default is `None`.\n",
    "- `**kwargs`: Additional arguments passed to `morphological_geodesic_active_contour` from `skimage.segmentation`.\n",
    "\n",
    "**Returns:**\n",
    "\n",
    "- `List[data_util.SqueakBox]`: List of detected USVs' bounding boxes.\n",
    "\n"
   ],
   "metadata": {
    "collapsed": false
   },
   "id": "67c56d1609931ea2"
  },
  {
   "cell_type": "code",
   "execution_count": 96,
   "id": "8a540a8f-2cd0-44aa-a519-8879e9e02214",
   "metadata": {
    "ExecuteTime": {
     "end_time": "2024-11-22T12:08:24.620002Z",
     "start_time": "2024-11-22T12:08:24.617234Z"
    }
   },
   "outputs": [],
   "source": [
    "def find_USVs_GAC(spec: sound_util.SpectrogramData,\n",
    "                  min_side_length=1,\n",
    "                  filter=True,\n",
    "                  preprocessing_fn: Optional[Callable] = None,\n",
    "                  level_set: Callable = None,\n",
    "                  tqdm_kwargs: Optional[Dict] = None,\n",
    "                  **kwargs) -> List[data_util.SqueakBox]:\n",
    "\n",
    "    _kwargs = copy.deepcopy(kwargs)\n",
    "\n",
    "    # Set default preprocessing function if not provided\n",
    "    if preprocessing_fn is None:\n",
    "        preprocessing_fn = partial(segmentation.inverse_gaussian_gradient,\n",
    "                                   sigma=5,\n",
    "                                   alpha=100)\n",
    "    # Set default parameters for GAC if not provided\n",
    "    for arg, val in [\n",
    "        (\"num_iter\", 230),\n",
    "        (\"smoothing\", 0),\n",
    "        (\"threshold\", 0.9),\n",
    "        (\"balloon\", -1),\n",
    "    ]:\n",
    "        if arg not in _kwargs:\n",
    "            _kwargs[arg] = val\n",
    "\n",
    "     # Preprocess the spectrogram\n",
    "    _spec = preprocessing_fn(spec.spec.numpy())\n",
    "\n",
    "    # Set default level set function if not provided\n",
    "    if level_set is None:\n",
    "        level_set = GAC.ones_level_set\n",
    "\n",
    "    level_set_init = level_set(_spec)\n",
    "\n",
    "    tqdm_kwargs = tqdm_kwargs if tqdm_kwargs else {}\n",
    "    with tqdm(total=_kwargs[\"num_iter\"], **tqdm_kwargs) as pbar:\n",
    "        if 'iter_callback' in _kwargs:\n",
    "            callback = _kwargs['iter_callback']\n",
    "\n",
    "            def _iter_callback(level_set):\n",
    "                callback(level_set)\n",
    "                pbar.update(1)\n",
    "\n",
    "            _kwargs['iter_callback'] = _iter_callback\n",
    "\n",
    "        # Ensure no 'iterations' keyword is passed\n",
    "        if 'iterations' in _kwargs:\n",
    "            del _kwargs['iterations']\n",
    "\n",
    "        # Run the GAC algorithm\n",
    "        level_set_result = segmentation.morphological_geodesic_active_contour(\n",
    "            _spec, init_level_set=level_set_init, **_kwargs)\n",
    "\n",
    "    # Find bounding boxes for the detected regions\n",
    "    boxes = data_util.find_bounding_boxes(level_set_result,\n",
    "                                          min_side_length=min_side_length)\n",
    "\n",
    "    # Filter the bounding boxes if required\n",
    "    if filter:\n",
    "        return data_util.filter_boxes(spec, boxes)\n",
    "    else:\n",
    "        return boxes"
   ]
  },
  {
   "cell_type": "markdown",
   "source": [
    "### Detecting USVs in the Spectrogram\n",
    "\n",
    "We will apply the `find_USVs_GAC` function to detect USVs in the spectrogram."
   ],
   "metadata": {
    "collapsed": false
   },
   "id": "7128e89d26c32ebb"
  },
  {
   "cell_type": "code",
   "outputs": [
    {
     "name": "stderr",
     "output_type": "stream",
     "text": [
      "Detecting USVs with GAC:   0%|          | 0/230 [00:00<?, ?it/s]\n"
     ]
    }
   ],
   "source": [
    "# Detect USVs using GAC\n",
    "detected_squeaks = find_USVs_GAC(\n",
    "    spec=spec_data,\n",
    "    min_side_length=1,\n",
    "    tqdm_kwargs={\"desc\": \"Detecting USVs with GAC\"}\n",
    ")"
   ],
   "metadata": {
    "collapsed": false,
    "ExecuteTime": {
     "end_time": "2024-11-22T12:08:25.285097Z",
     "start_time": "2024-11-22T12:08:24.620996Z"
    }
   },
   "id": "d9e11e4ad50cf034",
   "execution_count": 97
  },
  {
   "cell_type": "markdown",
   "source": [
    "### Visualizing the Detected USVs\n",
    "\n",
    "We will now visualize the detected USVs by plotting bounding boxes over the spectrogram."
   ],
   "metadata": {
    "collapsed": false
   },
   "id": "c86e6b7ad56eab83"
  },
  {
   "cell_type": "code",
   "outputs": [
    {
     "name": "stderr",
     "output_type": "stream",
     "text": [
      "/var/folders/l6/wgftfmzx72z5zmyqxrjk74wh0000gn/T/ipykernel_29886/1104501486.py:31: UserWarning: FigureCanvasAgg is non-interactive, and thus cannot be shown\n",
      "  fig.show()\n"
     ]
    },
    {
     "data": {
      "text/plain": "<Figure size 1000x600 with 2 Axes>",
      "image/png": "[encoded data removed]"
     },
     "metadata": {},
     "output_type": "display_data"
    }
   ],
   "source": [
    "# Plotting the detected USVs on the spectrogram\n",
    "fig, ax = plt.subplots(figsize=(10, 6))\n",
    "ax.set_facecolor('#2e004f')  # Set axes background color (dark purple)\n",
    "\n",
    "spectrogram_color_mesh = visualization.draw_spectrogram(\n",
    "    spec_data,\n",
    "    ax=ax,\n",
    "    vmax=5\n",
    ")\n",
    "\n",
    "# Draw bounding boxes around detected USVs\n",
    "for squeak_box in detected_squeaks:\n",
    "    rect = plt.Rectangle(\n",
    "        (squeak_box.t_start, squeak_box.freq_start),\n",
    "        squeak_box.t_end - squeak_box.t_start,\n",
    "        squeak_box.freq_end - squeak_box.freq_start,\n",
    "        linewidth=1,\n",
    "        edgecolor='r',  # Red color for bounding boxes\n",
    "        facecolor='none'\n",
    "    )\n",
    "    ax.add_patch(rect)\n",
    "\n",
    "fig.colorbar(spectrogram_color_mesh, ax=ax, format='%+2.0f dB')\n",
    "ax.set_title('Spectrogram with Detected USVs (GAC)', color='white')\n",
    "ax.set_xlabel('Time [s]', color='white')\n",
    "ax.set_ylabel('Frequency [kHz]', color='white')\n",
    "ax.tick_params(colors='white')\n",
    "\n",
    "fig.patch.set_facecolor('black')  # Set the figure background color to black\n",
    "\n",
    "fig.show()"
   ],
   "metadata": {
    "collapsed": false,
    "ExecuteTime": {
     "end_time": "2024-11-22T12:08:25.488063Z",
     "start_time": "2024-11-22T12:08:25.289461Z"
    }
   },
   "id": "6587db1ceafe358b",
   "execution_count": 98
  },
  {
   "cell_type": "markdown",
   "source": [
    "## Classifying Detected USVs Using a CNN Model\n",
    "\n",
    "After detecting the USVs, we will classify them using a pre-trained CNN model to determine the type of vocalizations.\n",
    "\n",
    "### Loading the Pre-trained CNN Model\n",
    "\n",
    "We will use a pre-trained CNN model for classification. The model checkpoint will be downloaded if it's not already present in the cache directory.\n",
    "\n",
    "### Function Parameters\n",
    "\n",
    "The `classify_USVs_CNN` function classifies USVs using a pre-trained CNN model.\n",
    "\n",
    "**Parameters:**\n",
    "\n",
    "- `spec_data` (*sound_util.SpectrogramData*): The spectrogram data.\n",
    "- `annotations` (*List[data_util.SqueakBox]*): List of detected USVs' bounding boxes.\n",
    "- `model_name` (*str*): The name of the pre-trained model to use.\n",
    "- `cache_dir` (*pathlib.Path*): The directory where the model checkpoint is cached.\n",
    "- `batch_size` (*int*, optional): The batch size for processing. Default is `4`.\n",
    "- `confidence_threshold` (*float*, optional): The confidence threshold for predictions. Default is `-1` (no threshold).\n",
    "- `silent` (*bool*, optional): If `True`, suppresses output. Default is `False`.\n",
    "- `callback` (*Callable*, optional): A callback function to be called after classification. Default is `None`.\n",
    "\n",
    "**Returns:**\n",
    "\n",
    "- `List[data_util.SqueakBox]`: List of classified USVs' bounding boxes with labels."
   ],
   "metadata": {
    "collapsed": false
   },
   "id": "161a02a146379acc"
  },
  {
   "cell_type": "code",
   "outputs": [],
   "source": [
    "# Define the pre-trained models and their checkpoints\n",
    "PRETRAINED_MODELS_CHECKPOINTS = {\n",
    "    \"cnn-binary-v1-custom\": {\n",
    "        \"url\": \"https://zenodo.org/record/6868406/files/cnn_binary_v1_custom.ckpt\",\n",
    "        \"filename\": \"cnn_binary_v1_custom.ckpt\",\n",
    "    }\n",
    "}\n",
    "\n",
    "def classify_USVs_CNN(\n",
    "    spec_data: sound_util.SpectrogramData,\n",
    "    annotations: List[data_util.SqueakBox],\n",
    "    model_name: str,\n",
    "    cache_dir: pathlib.Path,\n",
    "    batch_size: int = 4,\n",
    "    confidence_threshold: float = -1,\n",
    "    silent: bool = False,\n",
    "    callback: Optional[Callable] = None,\n",
    "):\n",
    "    \n",
    "    # Get the model checkpoint path\n",
    "    model_path = cache_dir.joinpath(PRETRAINED_MODELS_CHECKPOINTS[model_name][\"filename\"])\n",
    "    \n",
    "    # Download the model if not present\n",
    "    if not model_path.exists():\n",
    "        os.makedirs(str(cache_dir), exist_ok=True)\n",
    "        data_util.download_file(PRETRAINED_MODELS_CHECKPOINTS[model_name][\"url\"], output_path=str(model_path))\n",
    "\n",
    "    # Load the pre-trained model\n",
    "    model = cnn_classifier.USVClassifier.load_from_checkpoint(str(model_path), inference_only=True)\n",
    "    \n",
    "    # Classify the annotations using the model\n",
    "    return model.predict_for_annotations(\n",
    "        spec_data,\n",
    "        annotations=annotations,\n",
    "        batch_size=batch_size,\n",
    "        confidence_threshold=confidence_threshold,\n",
    "        silent=silent,\n",
    "        callback=callback,\n",
    "    )"
   ],
   "metadata": {
    "collapsed": false,
    "ExecuteTime": {
     "end_time": "2024-11-22T12:08:25.493141Z",
     "start_time": "2024-11-22T12:08:25.489299Z"
    }
   },
   "id": "4aeac45ffb552a74",
   "execution_count": 99
  },
  {
   "cell_type": "markdown",
   "source": [
    "### Classifying the Detected USVs\n",
    "\n",
    "We will now classify the detected USVs using the pre-trained CNN model."
   ],
   "metadata": {
    "collapsed": false
   },
   "id": "91495fcc5e734edb"
  },
  {
   "cell_type": "code",
   "outputs": [
    {
     "name": "stderr",
     "output_type": "stream",
     "text": [
      "Lightning automatically upgraded your loaded checkpoint from v1.6.3 to v2.2.2. To apply the upgrade to your files permanently, run `python -m pytorch_lightning.utilities.upgrade_checkpoint model_cache/cnn_binary_v1_custom.ckpt`\n",
      "100%|██████████| 4/4 [00:00<00:00, 178.68it/s]\n"
     ]
    }
   ],
   "source": [
    "# Specify the cache directory and model name\n",
    "cache_dir = pathlib.Path(\"./model_cache\")\n",
    "model_name = \"cnn-binary-v1-custom\"\n",
    "\n",
    "# Classify the detected USVs\n",
    "classified_squeaks = classify_USVs_CNN(\n",
    "    spec_data=spec_data,\n",
    "    annotations=detected_squeaks,\n",
    "    model_name=model_name,\n",
    "    cache_dir=cache_dir,\n",
    "    batch_size=4\n",
    ")"
   ],
   "metadata": {
    "collapsed": false,
    "ExecuteTime": {
     "end_time": "2024-11-22T12:08:25.774018Z",
     "start_time": "2024-11-22T12:08:25.493887Z"
    }
   },
   "id": "a11916efc93251ed",
   "execution_count": 100
  },
  {
   "cell_type": "markdown",
   "source": [
    "### Visualizing the Classified USVs\n",
    "\n",
    "We will visualize the classified USVs by plotting bounding boxes with different colors based on their classification."
   ],
   "metadata": {
    "collapsed": false
   },
   "id": "ab988612f8f078e3"
  },
  {
   "cell_type": "code",
   "outputs": [
    {
     "name": "stderr",
     "output_type": "stream",
     "text": [
      "/var/folders/l6/wgftfmzx72z5zmyqxrjk74wh0000gn/T/ipykernel_29886/1407794942.py:32: UserWarning: FigureCanvasAgg is non-interactive, and thus cannot be shown\n",
      "  fig.show()\n"
     ]
    },
    {
     "data": {
      "text/plain": "<Figure size 1000x600 with 2 Axes>",
      "image/png": "[encoded data removed]"
     },
     "metadata": {},
     "output_type": "display_data"
    }
   ],
   "source": [
    "# Plotting the classified USVs on the spectrogram\n",
    "fig, ax = plt.subplots(figsize=(10, 6))\n",
    "ax.set_facecolor('#2e004f')  # Set axes background color (dark purple)\n",
    "\n",
    "spectrogram_color_mesh = visualization.draw_spectrogram(\n",
    "    spec_data,\n",
    "    ax=ax,\n",
    "    vmax=5\n",
    ")\n",
    "\n",
    "# Draw bounding boxes around classified USVs with different colors\n",
    "for squeak_box in classified_squeaks:\n",
    "    color = 'b' if squeak_box.label == 'high freq' else 'g'  # Blue for 'high freq', green otherwise\n",
    "    rect = plt.Rectangle(\n",
    "        (squeak_box.t_start, squeak_box.freq_start),\n",
    "        squeak_box.t_end - squeak_box.t_start,\n",
    "        squeak_box.freq_end - squeak_box.freq_start,\n",
    "        linewidth=1,\n",
    "        edgecolor=color,\n",
    "        facecolor='none'\n",
    "    )\n",
    "    ax.add_patch(rect)\n",
    "\n",
    "fig.colorbar(spectrogram_color_mesh, ax=ax, format='%+2.0f dB')\n",
    "ax.set_title('Spectrogram with Classified USVs (CNN)', color='white')\n",
    "ax.set_xlabel('Time [s]', color='white')\n",
    "ax.set_ylabel('Frequency [kHz]', color='white')\n",
    "ax.tick_params(colors='white')\n",
    "\n",
    "fig.patch.set_facecolor('black')  # Set the figure background color to black\n",
    "\n",
    "fig.show()"
   ],
   "metadata": {
    "collapsed": false,
    "ExecuteTime": {
     "end_time": "2024-11-22T12:08:26.018330Z",
     "start_time": "2024-11-22T12:08:25.776818Z"
    }
   },
   "id": "75fdb217739878f8",
   "execution_count": 101
  },
  {
   "cell_type": "markdown",
   "source": [
    "## Conclusion\n",
    "\n",
    "In this notebook, we demonstrated how to detect and classify ultrasonic vocalizations (USVs) in rodent audio recordings. We:\n",
    "\n",
    "- Loaded and visualized the audio data using spectrograms.\n",
    "- Detected USVs using Geodesic Active Contours (GAC).\n",
    "- Classified the detected USVs using a pre-trained CNN model.\n",
    "- Visualized the results by plotting bounding boxes over the spectrogram.\n",
    "\n",
    "This process can be used to analyze rodent vocalizations in research and study their behavior."
   ],
   "metadata": {
    "collapsed": false
   },
   "id": "7dfeeca2ec914295"
  }
 ],
 "metadata": {
  "kernelspec": {
   "display_name": "MoUSE-GUI",
   "language": "python",
   "name": "mouse-gui-py3.11"
  },
  "language_info": {
   "codemirror_mode": {
    "name": "ipython",
    "version": 3
   },
   "file_extension": ".py",
   "mimetype": "text/x-python",
   "name": "python",
   "nbconvert_exporter": "python",
   "pygments_lexer": "ipython3",
   "version": "3.11.8"
  }
 },
 "nbformat": 4,
 "nbformat_minor": 5
}
