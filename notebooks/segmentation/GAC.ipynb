{
 "cells": [
  {
   "cell_type": "markdown",
   "id": "e78588d7",
   "metadata": {},
   "source": [
    "# Setup"
   ]
  },
  {
   "cell_type": "code",
   "execution_count": null,
   "id": "d30980d6",
   "metadata": {},
   "outputs": [],
   "source": [
    "from itertools import product\n",
    "from time import time\n",
    "\n",
    "import matplotlib.pyplot as plt\n",
    "import torchaudio\n",
    "import torchaudio.functional as F\n",
    "import torchaudio.transforms as T\n",
    "import numpy as np\n",
    "from tqdm.notebook import tqdm\n",
    "\n",
    "from skimage.measure import find_contours\n",
    "from skimage.segmentation import mark_boundaries\n",
    "from skimage import segmentation\n",
    "from skimage.util import img_as_float\n",
    "import cv2\n",
    "from skimage import data\n",
    "from skimage.segmentation import (morphological_geodesic_active_contour,\n",
    "                                  inverse_gaussian_gradient,\n",
    "                                  checkerboard_level_set)\n",
    "from scipy import ndimage\n",
    "\n",
    "import mouse.utils.constants as const\n",
    "from mouse.utils import data_util\n",
    "from mouse.utils import sound_util\n",
    "from mouse import segmentation as mouse_seg\n",
    "from mouse.utils import visualization\n",
    "from mouse.utils import metrics"
   ]
  },
  {
   "cell_type": "code",
   "execution_count": null,
   "id": "2e7e40ec",
   "metadata": {},
   "outputs": [],
   "source": [
    "def split_draw_spectrogram(freqs, times, spec, real_squeaks, detected_boxes, data_folder, signal_name, t_delta=1.5, apply_log=True):\n",
    "    t_span = times[-1] - times[0]\n",
    "    plots_needed = int(t_span // t_delta) + 1\n",
    "    fig, axes = plt.subplots(plots_needed, 1, figsize=(11, 2*plots_needed))\n",
    "    if plots_needed > 1:\n",
    "        axes = axes.ravel()\n",
    "    else:\n",
    "        axes = [axes]\n",
    "        \n",
    "    t_start = times[0]\n",
    "    if apply_log:\n",
    "        print('applying log')\n",
    "        s = np.log10(spec)\n",
    "        vmin = np.min(s)\n",
    "        vmax = np.max(s)\n",
    "    else:\n",
    "        s = np.array(spec)\n",
    "        vmin = np.min(s)\n",
    "        vmax = np.max(s)\n",
    "        \n",
    "    \n",
    "    for ax in tqdm(axes):\n",
    "        t_idx = np.logical_and(times >= t_start, times < t_start + t_delta)\n",
    "        sub_times = times[t_idx]\n",
    "        sub_spec = s[:, t_idx]\n",
    "        sub_spec_len = sub_spec.shape[1]\n",
    "        real_squeaks = data_util.load_squeak_boxes(data_folder, signal_name, \n",
    "                                                   sound_util.SpectrogramData(spec=sub_spec, freqs=freqs, times=sub_times))\n",
    "        sub_boxes = []\n",
    "        \n",
    "        for box in detected_boxes:\n",
    "            if np.any(t_idx[box.t_start:box.t_end]):\n",
    "                shift = np.min(np.argwhere(t_idx))\n",
    "                sub_boxes.append(data_util.SqueakBox(freq_start=box.freq_start,\n",
    "                                                    freq_end=box.freq_end,\n",
    "                                                    label=None,\n",
    "                                                    t_start=np.clip(box.t_start - shift, 0, sub_spec_len),\n",
    "                                                    t_end=np.clip(box.t_end - shift, 0, sub_spec_len)))\n",
    "\n",
    "        visualization.draw_spectrogram(sound_util.SpectrogramData(spec=sub_spec, freqs=freqs, times=sub_times), ax, vmin=vmin, vmax=vmax)\n",
    "        visualization.draw_boxes(real_squeaks, sub_spec.shape[0], ax, linewidth=1, facecolor='none')\n",
    "        visualization.draw_boxes(sub_boxes, sub_spec.shape[0], ax, edgecolor='cyan', linewidth=1, facecolor='none')\n",
    "        t_start += t_delta\n",
    "        \n",
    "def show_result_grid(rows, cols, results, image, fig=None, axes=None, figsize=(16, 8)):\n",
    "    if fig==None:\n",
    "        fig, axes = plt.subplots(rows, cols, figsize=figsize)\n",
    "        ax = axes.flatten()\n",
    "\n",
    "    for i, (name, result, evolution, kwargs) in enumerate(results):\n",
    "        iterations = kwargs[\"iterations\"]\n",
    "\n",
    "        contour = ax[i].contour(evolution[iterations//3], [0.5], colors='y')\n",
    "        contour.collections[0].set_label(f\"Iteration {iterations//3}\")\n",
    "\n",
    "        contour = ax[i].contour(evolution[2*iterations//3], [0.5], colors='g')\n",
    "        contour.collections[0].set_label(f\"Iteration {2*iterations//3}\")\n",
    "  \n",
    "        ax[i].imshow(image, cmap=\"gray\")\n",
    "        ax[i].set_axis_off()\n",
    "        ax[i].contour(result, [0.5], colors='r')\n",
    "        ax[i].set_title(name, fontsize=12)\n",
    "\n",
    "    fig.tight_layout()\n",
    "    \n",
    "def store_evolution_in(lst):\n",
    "    \"\"\"Returns a callback function to store the evolution of the level sets in\n",
    "    the given list.\n",
    "    \"\"\"\n",
    "\n",
    "    def _store(x):\n",
    "        lst.append(np.copy(x))\n",
    "\n",
    "    return _store\n",
    "    \n",
    "def run_GAC(image, preprocess, **kwargs):\n",
    "    if preprocess:\n",
    "        gimage = inverse_gaussian_gradient(image)\n",
    "    else:\n",
    "        giamge = image\n",
    "    \n",
    "    init_ls = np.ones(image.shape, dtype=np.int8)\n",
    "\n",
    "    # List with intermediate results for plotting the evolution\n",
    "    evolution = []\n",
    "    \n",
    "    callback = store_evolution_in(evolution)\n",
    "    ls = morphological_geodesic_active_contour(gimage, init_level_set=init_ls, iter_callback=callback, **kwargs)\n",
    "    return ls, evolution\n",
    "\n",
    "def get_results_GAC(combinations, image, preprocess=True):\n",
    "    results = []\n",
    "    for name, kwargs in tqdm(combinations):\n",
    "        result, evolution = run_GAC(image, preprocess, **kwargs)\n",
    "        results.append((name, result, evolution, kwargs))\n",
    "    return results"
   ]
  },
  {
   "cell_type": "code",
   "execution_count": null,
   "id": "0c3e035c",
   "metadata": {
    "tags": []
   },
   "outputs": [],
   "source": [
    "from itertools import product\n",
    "basic_args_GAC = {\"iterations\":230, \"smoothing\":1, \"threshold\": 0.7, \"balloon\":-1}\n",
    "\n",
    "def modify_args(update, basic_args=basic_args_GAC):\n",
    "    args_combinations = []\n",
    "    keys = update.keys()\n",
    "    values = [update[k] for k in keys]\n",
    "    \n",
    "    for config in product(*values):\n",
    "        new_values = {k: config[i] for i, k in enumerate(keys)}\n",
    "        name = str(new_values)\n",
    "        args_combinations.append((name, {**basic_args, **new_values}))\n",
    "    \n",
    "    return args_combinations\n",
    "\n",
    "modify_args({\"iterations\": [1,2], 'smoothing': [1,2]})"
   ]
  },
  {
   "cell_type": "code",
   "execution_count": null,
   "id": "fdbb8a90",
   "metadata": {},
   "outputs": [],
   "source": [
    "def show_result_grid(rows, cols, results, image, fig=None, axes=None, figsize=(16, 8)):\n",
    "    if fig==None:\n",
    "        fig, axes = plt.subplots(rows, cols, figsize=figsize)\n",
    "        ax = axes.flatten()\n",
    "\n",
    "    for i, (name, result, evolution, kwargs) in enumerate(results):\n",
    "        iterations = kwargs[\"iterations\"]\n",
    "\n",
    "        contour = ax[i].contour(evolution[iterations//3], [0.5], colors='y')\n",
    "        contour.collections[0].set_label(f\"Iteration {iterations//3}\")\n",
    "\n",
    "        contour = ax[i].contour(evolution[2*iterations//3], [0.5], colors='g')\n",
    "        contour.collections[0].set_label(f\"Iteration {2*iterations//3}\")\n",
    "  \n",
    "        ax[i].imshow(image, cmap=\"gray\")\n",
    "        ax[i].set_axis_off()\n",
    "        ax[i].contour(result, [0.5], colors='r')\n",
    "        ax[i].set_title(name, fontsize=12)\n",
    "\n",
    "    fig.tight_layout()"
   ]
  },
  {
   "cell_type": "markdown",
   "id": "fc05ad12",
   "metadata": {},
   "source": [
    "## Load signal and generate spectrogram"
   ]
  },
  {
   "cell_type": "code",
   "execution_count": null,
   "id": "58e56b45",
   "metadata": {},
   "outputs": [],
   "source": [
    "folders = data_util.load_data(const.LABELED_SOURCES)\n",
    "len(folders)"
   ]
  },
  {
   "cell_type": "code",
   "execution_count": null,
   "id": "aabc4c05",
   "metadata": {},
   "outputs": [],
   "source": [
    "data_folder: data_util.DataFolder = folders[1]\n",
    "len(data_folder.signals)"
   ]
  },
  {
   "cell_type": "code",
   "execution_count": null,
   "id": "576a43f2",
   "metadata": {},
   "outputs": [],
   "source": [
    "n_fft=512\n",
    "win_length=256#64\n",
    "hop_length=128\n",
    "\n",
    "squeak_signal = data_folder.signals[0]\n",
    "\n",
    "spec = sound_util.signal_spectrogram(squeak_signal, start=0., end=1.,\n",
    "                                                  n_fft=n_fft,\n",
    "                                              win_length=win_length,\n",
    "                                              hop_length=hop_length)\n",
    "spec.spec = spec.spec[spec.freqs>18000,:]\n",
    "spec.freqs = spec.freqs[spec.freqs>18000]\n",
    "image = img_as_float(spec.spec)\n",
    "spec.spec = np.array(spec.spec)\n",
    "# plt.figure(figsize=(20, 20))\n",
    "# plt.imshow(np.log(spec[:, :3000]))\n",
    "spec_orginal = sound_util.SpectrogramData(spec=spec.spec, times=spec.times, freqs=spec.freqs)\n",
    "spec.spec.shape"
   ]
  },
  {
   "cell_type": "markdown",
   "id": "8674f85a",
   "metadata": {},
   "source": [
    "# GAC"
   ]
  },
  {
   "cell_type": "markdown",
   "id": "df0f3fc4",
   "metadata": {},
   "source": [
    "### Tuning parameters"
   ]
  },
  {
   "cell_type": "code",
   "execution_count": null,
   "id": "f9dcc981",
   "metadata": {
    "tags": []
   },
   "outputs": [],
   "source": [
    "np.min(np.log10(spec.spec[:, :1000])), np.max(np.log10(spec.spec[:, :1000]))"
   ]
  },
  {
   "cell_type": "code",
   "execution_count": null,
   "id": "2f99b180",
   "metadata": {
    "tags": []
   },
   "outputs": [],
   "source": [
    "np.min(spec.spec[:, :1000]), np.max(spec.spec[:, :1000])"
   ]
  },
  {
   "cell_type": "code",
   "execution_count": null,
   "id": "b65fddec",
   "metadata": {},
   "outputs": [],
   "source": [
    "spec.spec.shape[1] * 13/30"
   ]
  },
  {
   "cell_type": "code",
   "execution_count": null,
   "id": "421f04a1",
   "metadata": {},
   "outputs": [],
   "source": [
    "image = spec.spec[:, 22150:22950]\n",
    "plt.figure(figsize=(10, 3))\n",
    "plt.imshow(np.log10(image))"
   ]
  },
  {
   "cell_type": "code",
   "execution_count": null,
   "id": "e1c789e2",
   "metadata": {
    "tags": []
   },
   "outputs": [],
   "source": [
    "image = spec.spec[:, 22150:22950]\n",
    "\n",
    "# image = segmentation.flood_fill(image, (100,50), 0, tolerance=1., connectivity=300) # no preprocessing\n",
    "# print(np.min(image[image > 0]))\n",
    "\n",
    "image = np.log10(image)\n",
    "image = segmentation.flood_fill(image, (100,50), -3.3, tolerance=.8, connectivity=300) # log10\n",
    "\n",
    "# image = ndimage.median_filter(image, 4)\n",
    "\n",
    "# num_tiles = tuple([image.shape[i]//25 for i in (0, 1)])\n",
    "# clip_limit = 0.05\n",
    "# alpha = 0.2\n",
    "# print(num_tiles)\n",
    "# # image = adaptive_histogram_equalization(log_and_normalize(image), num_tiles, alpha=alpha, clip_limit=clip_limit)\n",
    "# # image = ndimage.median_filter(image, 8)\n",
    "# image = np.log10(image)\n",
    "\n",
    "plt.figure(figsize=(10, 3))\n",
    "plt.imshow(image)"
   ]
  },
  {
   "cell_type": "code",
   "execution_count": null,
   "id": "0ceaf321",
   "metadata": {
    "tags": []
   },
   "outputs": [],
   "source": [
    "args = modify_args({\"threshold\": [i/10 for i in [7, 8, 9]], 'balloon': [-1, -0.9, -0.8]})\n",
    "results = get_results_GAC(args, image)"
   ]
  },
  {
   "cell_type": "code",
   "execution_count": null,
   "id": "3fa70086",
   "metadata": {
    "tags": []
   },
   "outputs": [],
   "source": [
    "show_result_grid(3, 3, results, image)"
   ]
  },
  {
   "cell_type": "code",
   "execution_count": null,
   "id": "3cc0633a",
   "metadata": {},
   "outputs": [],
   "source": [
    "basic =  {\"iterations\":230, \"smoothing\":0, \"threshold\": 0.7, \"balloon\":-1.}\n",
    "args = modify_args({\"smoothing\":[0, 1, 2]}, basic)\n",
    "results = get_results_GAC(args, image)"
   ]
  },
  {
   "cell_type": "code",
   "execution_count": null,
   "id": "8b4b9d35",
   "metadata": {
    "tags": []
   },
   "outputs": [],
   "source": [
    "show_result_grid(3, 1, results, image)"
   ]
  },
  {
   "cell_type": "code",
   "execution_count": null,
   "id": "28f195fa",
   "metadata": {},
   "outputs": [],
   "source": [
    "basic =  {\"iterations\":230, \"smoothing\":1, \"threshold\": 0.7, \"balloon\":-1.}\n",
    "args = modify_args({\"iterations\":[100, 130, 150, 300]}, basic)\n",
    "results = get_results_GAC(args, image)"
   ]
  },
  {
   "cell_type": "code",
   "execution_count": null,
   "id": "80a730e7",
   "metadata": {},
   "outputs": [],
   "source": [
    "show_result_grid(4, 1, results, image)"
   ]
  },
  {
   "cell_type": "markdown",
   "id": "92f19bfa",
   "metadata": {},
   "source": [
    "### Run GAC on whole spectrogram"
   ]
  },
  {
   "cell_type": "code",
   "execution_count": null,
   "id": "ae1041fb",
   "metadata": {},
   "outputs": [],
   "source": []
  },
  {
   "cell_type": "code",
   "execution_count": null,
   "id": "17a19bf0",
   "metadata": {},
   "outputs": [],
   "source": [
    "t = time()\n",
    "kwargs =  {\"iterations\":150, \"smoothing\":0, \"threshold\": 0.9, \"balloon\":-1} # no processing\n",
    "# ls = run_GAC(image, True, **kwargs)\n",
    "\n",
    "spec_cp = np.copy(spec.spec)\n",
    "spec.spec = np.array(spec.spec)\n",
    "\n",
    "### PREPROCESSING SECTION\n",
    "### uncomment a subsection to add preprocessing\n",
    "## log10\n",
    "# kwargs =  {\"iterations\":230, \"smoothing\":1, \"threshold\": 0.8, \"balloon\":-1}\n",
    "# spec_log = np.log10(spec.spec)\n",
    "# spec.spec = segmentation.flood_fill(spec_log, (100,50), -3.3, tolerance=1., connectivity=300) # log10\n",
    "\n",
    "## flood\n",
    "spec.spec = segmentation.flood_fill(spec.spec, (100,50), 0, tolerance=1., connectivity=300)\n",
    "\n",
    "# median filter; bad method?\n",
    "# kwargs =  {\"iterations\":230, \"smoothing\":1, \"threshold\": 0.7, \"balloon\":-0.9}\n",
    "# spec.spec = ndimage.median_filter(spec.spec, 4)\n",
    "\n",
    "### PREPROCESSING ENDS\n",
    "\n",
    "boxes = mouse_seg.find_USVs(spec, **kwargs)\n",
    "print(time() - t, \"[s]\")\n",
    "spec.spec = spec_cp\n",
    "\n",
    "len(boxes)"
   ]
  },
  {
   "cell_type": "code",
   "execution_count": null,
   "id": "5d31bf96",
   "metadata": {},
   "outputs": [],
   "source": [
    "real_squeaks = data_util.load_squeak_boxes(data_folder, squeak_signal.name, spec)\n",
    "filtered_boxes = data_util.filter_boxes(spec, boxes)\n",
    "print(f\"{len(filtered_boxes)} left out of {len(boxes)}\")\n",
    "len(real_squeaks)"
   ]
  },
  {
   "cell_type": "code",
   "execution_count": null,
   "id": "da5ac74e",
   "metadata": {},
   "outputs": [],
   "source": [
    "# fig, ax = plt.subplots(figsize=(20, 5))\n",
    "# visualization.draw_spectrogram(spec_log, ax)\n",
    "# visualization.draw_boxes(real_squeaks, spec.get_height(), ax, linewidth=1, facecolor='none')\n",
    "# visualization.draw_boxes(boxes, spec.get_height(), ax, edgecolor='b', linewidth=1, facecolor='none')\n",
    "# plt.show()"
   ]
  },
  {
   "cell_type": "code",
   "execution_count": null,
   "id": "920a5a96",
   "metadata": {},
   "outputs": [],
   "source": [
    "\n",
    "# fig, ax = plt.subplots(figsize=(20, 5))\n",
    "# visualization.draw_spectrogram(spec, ax)\n",
    "# visualization.draw_boxes(real_squeaks, spec.get_height(), ax, linewidth=1, facecolor='none')\n",
    "# visualization.draw_boxes(filtered_boxes, spec.get_height(), ax, edgecolor='g', linewidth=2, facecolor='none')\n",
    "# plt.show()"
   ]
  },
  {
   "cell_type": "code",
   "execution_count": null,
   "id": "035ac163",
   "metadata": {},
   "outputs": [],
   "source": [
    "metrics.coverage(real_squeaks, filtered_boxes)"
   ]
  },
  {
   "cell_type": "code",
   "execution_count": null,
   "id": "3f54bdc7",
   "metadata": {},
   "outputs": [],
   "source": [
    "real_squeaks = [r for r in real_squeaks if r.label != \"junk\"]"
   ]
  },
  {
   "cell_type": "code",
   "execution_count": null,
   "id": "8f1d5283",
   "metadata": {},
   "outputs": [],
   "source": [
    "threshold = 0."
   ]
  },
  {
   "cell_type": "code",
   "execution_count": null,
   "id": "5fa8fa5d",
   "metadata": {},
   "outputs": [],
   "source": [
    "print(metrics.detection_recall(ground_truth=real_squeaks, prediction=filtered_boxes, threshold=threshold))\n",
    "print(metrics.detection_precision(ground_truth=real_squeaks, prediction=filtered_boxes, threshold=threshold))"
   ]
  },
  {
   "cell_type": "code",
   "execution_count": null,
   "id": "49c8df9a",
   "metadata": {},
   "outputs": [],
   "source": [
    "# def get_ommited(spec, boxes_to_cover, boxes_covering):\n",
    "#     to_cover_mask = np.ones(spec.shape[1])\n",
    "#     covering_mask = np.zeros(spec.shape[1])\n",
    "#     for box in boxes_to_cover:\n",
    "#         to_cover_mask[box.t_start:box.t_end] = 0\n",
    "#     for box in boxes_covering:\n",
    "#         covering_mask[box.t_start:box.t_end] = 1\n",
    "#     return np.logical_not(np.logical_or(to_cover_mask, covering_mask))\n",
    "\n",
    "# ommited = get_ommited(spec.spec, real_squeaks, filtered_boxes)"
   ]
  },
  {
   "cell_type": "code",
   "execution_count": null,
   "id": "d255c940",
   "metadata": {
    "tags": []
   },
   "outputs": [],
   "source": [
    "!mkdir figures\n",
    "!mkdir figures/preprocessed\n",
    "!mkdir figures/log"
   ]
  },
  {
   "cell_type": "code",
   "execution_count": null,
   "id": "e5f02f0e",
   "metadata": {},
   "outputs": [],
   "source": [
    "threshold = 0\n",
    "recall = metrics.detection_recall(ground_truth=real_squeaks, prediction=filtered_boxes, threshold=threshold)[0]\n",
    "prec = metrics.detection_precision(ground_truth=real_squeaks, prediction=filtered_boxes, threshold=threshold)"
   ]
  },
  {
   "cell_type": "code",
   "execution_count": null,
   "id": "6c563743",
   "metadata": {
    "tags": []
   },
   "outputs": [],
   "source": [
    "s = np.array(spec.spec)\n",
    "t_delta = 1\n",
    "s[s==0] = np.min(s[s!=0])\n",
    "split_draw_spectrogram(spec.freqs, spec.times, s, real_squeaks, filtered_boxes, data_folder,  squeak_signal.name, t_delta=t_delta)\n",
    "# split_draw_spectrogram(spec.freqs, spec.times, np.array(spec.spec), real_squeaks, boxes, data_folder,  squeak_signal.name)\n",
    "# plt.title(f\"recall={recall:.2f} | precision={prec:.2f} | threshold={threshold}\")\n",
    "plt.tight_layout()\n",
    "# plt.savefig(fname=f'figures/preprocessed/{squeak_signal.folder}-{squeak_signal.name}--flood',format='svg', facecolor='w')\n",
    "plt.show()"
   ]
  },
  {
   "cell_type": "code",
   "execution_count": null,
   "id": "77d40ef1",
   "metadata": {
    "tags": []
   },
   "outputs": [],
   "source": [
    "s = np.array(spec_orginal.spec)\n",
    "t_delta = 1\n",
    "s[s==0] = np.min(s[s!=0])\n",
    "split_draw_spectrogram(spec.freqs, spec.times, s, real_squeaks, filtered_boxes, data_folder,  squeak_signal.name, t_delta=t_delta)\n",
    "# split_draw_spectrogram(spec.freqs, spec.times, np.array(spec.spec), real_squeaks, boxes, data_folder,  squeak_signal.name)\n",
    "plt.tight_layout()\n",
    "# plt.title(f\"recall={recall:.2f} | precision={prec:.2f} | threshold={threshold}\")\n",
    "\n",
    "# plt.savefig(fname=f'figures/log/{squeak_signal.folder}-{squeak_signal.name}--flood',format='svg', facecolor='w')\n",
    "plt.show()"
   ]
  },
  {
   "cell_type": "markdown",
   "id": "a2f75369",
   "metadata": {},
   "source": [
    "## test all methods and save results"
   ]
  },
  {
   "cell_type": "code",
   "execution_count": null,
   "id": "b6e1d867",
   "metadata": {},
   "outputs": [],
   "source": [
    "def load_spec(signal):\n",
    "    spec = sound_util.signal_spectrogram(signal, start=0., end=.05,\n",
    "                                                  n_fft=n_fft,\n",
    "                                              win_length=win_length,\n",
    "                                              hop_length=hop_length)\n",
    "    spec.spec = spec.spec[spec.freqs>18000,:]\n",
    "    spec.freqs = spec.freqs[spec.freqs>18000]\n",
    "\n",
    "    spec.spec = np.array(spec.spec)\n",
    "    return spec"
   ]
  },
  {
   "cell_type": "code",
   "execution_count": null,
   "id": "9ef31e55",
   "metadata": {},
   "outputs": [],
   "source": [
    "kwargs =  {\"iterations\":230, \"smoothing\":0, \"threshold\": 0.9, \"balloon\":-1} # no processing\n",
    "\n",
    "# median filter; bad method?\n",
    "# kwargs =  {\"iterations\":230, \"smoothing\":1, \"threshold\": 0.7, \"balloon\":-0.9}\n",
    "# spec.spec = ndimage.median_filter(spec.spec, 8)\n",
    "\n",
    "methods = {#'no-processing': (kwargs, lambda spec: spec),\n",
    "           'flood': (kwargs, lambda spec: segmentation.flood_fill(spec, (100,50), 0, tolerance=1., connectivity=300))#,\n",
    "           # 'log10-and-flood': ({\"iterations\":230, \"smoothing\":1, \"threshold\": 0.8, \"balloon\":-1},\n",
    "           #                    lambda spec: segmentation.flood_fill(np.log10(spec), (100,50), -3.3, tolerance=1., connectivity=300))\n",
    "          }"
   ]
  },
  {
   "cell_type": "code",
   "execution_count": null,
   "id": "b1e053e0",
   "metadata": {},
   "outputs": [],
   "source": [
    "for folder in folders:\n",
    "    for sig in tqdm(folder.signals[:1]):\n",
    "        spec_copy = load_spec(sig)\n",
    "        \n",
    "        for name, (args, method) in methods.items():\n",
    "            spec = sound_util.SpectrogramData(spec=spec_copy.spec, times=spec_copy.times, freqs=spec_copy.freqs)\n",
    "            spec.spec = method(spec.spec)\n",
    "            boxes = mouse_seg.find_USVs(spec, **args)\n",
    "            \n",
    "            real_squeaks = data_util.load_squeak_boxes(folder, sig.name, spec)\n",
    "            filtered_boxes = data_util.filter_boxes(spec, boxes)\n",
    "            print(f\"{len(filtered_boxes)} left out of {len(boxes)}  | {len(real_squeaks)} real boxes\")\n",
    "            \n",
    "#             threshold = 0\n",
    "#             recall = metrics.detection_recall(ground_truth=real_squeaks, prediction=filtered_boxes, threshold=threshold)[0]\n",
    "#             prec = metrics.detection_precision(ground_truth=real_squeaks, prediction=filtered_boxes, threshold=threshold)\n",
    "            \n",
    "            plt.figure()\n",
    "            s = np.array(spec.spec)\n",
    "            t_delta = 1\n",
    "            split_draw_spectrogram(spec.freqs, spec.times, s, real_squeaks, filtered_boxes, folder,  sig.name, t_delta=t_delta, apply_log=False)\n",
    "            plt.tight_layout()\n",
    "            plt.savefig(fname=f'figures/preprocessed/{sig.folder}-{sig.name}--{name}',format='svg', facecolor='w')\n",
    "            plt.close('all')\n",
    "            plt.figure()\n",
    "            \n",
    "            \n",
    "            s = np.array(spec_copy.spec)\n",
    "            t_delta = 1\n",
    "            # if np.any(s<=1e-6):\n",
    "            s[s<=1e-6] = 1e-6\n",
    "            split_draw_spectrogram(spec.freqs, spec.times, s, real_squeaks, filtered_boxes, folder,  sig.name, t_delta=t_delta, apply_log=True)\n",
    "            plt.tight_layout()\n",
    "\n",
    "            plt.savefig(fname=f'figures/log/{sig.folder}-{sig.name}--{name}',format='svg', facecolor='w')\n",
    "            plt.close('all')"
   ]
  },
  {
   "cell_type": "code",
   "execution_count": null,
   "id": "3c2d6fe3",
   "metadata": {},
   "outputs": [],
   "source": []
  }
 ],
 "metadata": {
  "kernelspec": {
   "display_name": "Python 3",
   "language": "python",
   "name": "python3"
  },
  "language_info": {
   "codemirror_mode": {
    "name": "ipython",
    "version": 3
   },
   "file_extension": ".py",
   "mimetype": "text/x-python",
   "name": "python",
   "nbconvert_exporter": "python",
   "pygments_lexer": "ipython3",
   "version": "3.7.3"
  }
 },
 "nbformat": 4,
 "nbformat_minor": 5
}