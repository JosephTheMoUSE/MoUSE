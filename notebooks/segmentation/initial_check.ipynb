{
 "cells": [
  {
   "cell_type": "markdown",
   "metadata": {},
   "source": [
    "# Setup"
   ]
  },
  {
   "cell_type": "code",
   "execution_count": null,
   "metadata": {
    "collapsed": false,
    "jupyter": {
     "outputs_hidden": false
    },
    "pycharm": {
     "name": "#%%\n"
    }
   },
   "outputs": [],
   "source": [
    "from itertools import product\n",
    "\n",
    "import matplotlib.pyplot as plt\n",
    "import torchaudio\n",
    "import torchaudio.functional as F\n",
    "import torchaudio.transforms as T\n",
    "import numpy as np\n",
    "import torch\n",
    "from tqdm.notebook import tqdm\n",
    "\n",
    "from scipy import ndimage\n",
    "from skimage.measure import find_contours\n",
    "from skimage.segmentation import mark_boundaries\n",
    "from skimage import segmentation\n",
    "from skimage.util import img_as_float\n",
    "import cv2\n",
    "from skimage import data\n",
    "from skimage.segmentation import (morphological_chan_vese,\n",
    "                                  morphological_geodesic_active_contour,\n",
    "                                  inverse_gaussian_gradient,\n",
    "                                  checkerboard_level_set)\n",
    "\n",
    "import mouse.utils.constants as const\n",
    "from mouse.utils import data_util\n",
    "from mouse.utils import sound_util\n",
    "from mouse.segmentation import result_processing as proc\n",
    "from mouse.utils import visualization"
   ]
  },
  {
   "cell_type": "code",
   "execution_count": null,
   "metadata": {
    "collapsed": false,
    "jupyter": {
     "outputs_hidden": false
    },
    "pycharm": {
     "name": "#%%\n"
    }
   },
   "outputs": [],
   "source": [
    "data_folder: data_util.DataFolder = data_util.load_data([const.DATA_VPA])[0]\n",
    "#data_folder.df"
   ]
  },
  {
   "cell_type": "code",
   "execution_count": null,
   "metadata": {},
   "outputs": [],
   "source": [
    "l = data_folder.signals[0].signal.shape[0]\n",
    "squeak_signal = data_folder.signals[0].signal[int(l*3.8/120):int(l*5./120)]"
   ]
  },
  {
   "cell_type": "code",
   "execution_count": null,
   "metadata": {
    "collapsed": false,
    "jupyter": {
     "outputs_hidden": false
    },
    "pycharm": {
     "name": "#%%\n"
    }
   },
   "outputs": [],
   "source": [
    "%matplotlib inline\n",
    "spec = sound_util.spectrogram(squeak_signal)\n",
    "spec.spec = spec.spec[spec.freqs>18000,:]\n",
    "spec.freqs = spec.freqs[spec.freqs>18000]\n",
    "\n",
    "spec_plot = sound_util.SpectrogramData(spec=np.log10(spec.spec), times=spec.times, freqs=spec.freqs)\n",
    "spec_log = sound_util.SpectrogramData(spec=np.log10(spec.spec), times=spec.times, freqs=spec.freqs)"
   ]
  },
  {
   "cell_type": "code",
   "execution_count": null,
   "metadata": {},
   "outputs": [],
   "source": [
    "fig, ax = plt.subplots(1, 1)\n",
    "visualization.draw_spectrogram(spec_log, ax=ax)"
   ]
  },
  {
   "cell_type": "code",
   "execution_count": null,
   "metadata": {},
   "outputs": [],
   "source": [
    "def store_evolution_in(lst):\n",
    "    \"\"\"Returns a callback function to store the evolution of the level sets in\n",
    "    the given list.\n",
    "    \"\"\"\n",
    "\n",
    "    def _store(x):\n",
    "        lst.append(np.copy(x))\n",
    "\n",
    "    return _store"
   ]
  },
  {
   "cell_type": "code",
   "execution_count": null,
   "metadata": {
    "collapsed": false,
    "jupyter": {
     "outputs_hidden": false
    },
    "pycharm": {
     "name": "#%%\n"
    }
   },
   "outputs": [],
   "source": [
    "# image = np.log(np.array(spec)+1e-9)\n",
    "image = np.array(spec.spec)"
   ]
  },
  {
   "cell_type": "code",
   "execution_count": null,
   "metadata": {},
   "outputs": [],
   "source": [
    "def run_ACWE(image, **kwargs):\n",
    "    # Initial level set\n",
    "    init_ls = checkerboard_level_set(image.shape, 6)\n",
    "#     init_ls = np.ones(image.shape, dtype=np.int8)\n",
    "    \n",
    "#     init_ls = np.zeros(image.shape, dtype=np.int8)\n",
    "#     init_ls[10:-10, 10:-10] = 1\n",
    "    \n",
    "    # List with intermediate results for plotting the evolution\n",
    "    evolution = []\n",
    "    \n",
    "    callback = store_evolution_in(evolution)\n",
    "    ls = morphological_chan_vese(image, init_level_set=init_ls, iter_callback=callback, **kwargs)\n",
    "\n",
    "    return ls, evolution\n",
    "\n",
    "def run_GAC(image, preprocess, **kwargs):\n",
    "    if preprocess:\n",
    "        gimage = inverse_gaussian_gradient(image)\n",
    "    else:\n",
    "        giamge = image\n",
    "    \n",
    "    init_ls = np.ones(image.shape, dtype=np.int8)\n",
    "\n",
    "    # List with intermediate results for plotting the evolution\n",
    "    evolution = []\n",
    "    \n",
    "    callback = store_evolution_in(evolution)\n",
    "    ls = morphological_geodesic_active_contour(gimage, init_level_set=init_ls, iter_callback=callback, **kwargs)\n",
    "    return ls, evolution\n",
    "\n",
    "def get_results_GAC(combinations, image, preprocess=True):\n",
    "    results = []\n",
    "    for name, kwargs in tqdm(combinations):\n",
    "        result, evolution = run_GAC(image, preprocess, **kwargs)\n",
    "        results.append((name, result, evolution, kwargs))\n",
    "    return results\n",
    "\n",
    "def get_results_ACWE(combinations, image):\n",
    "    results = []\n",
    "    for name, kwargs in tqdm(combinations):\n",
    "        result, evolution = run_ACWE(image, **kwargs)\n",
    "        results.append((name, result, evolution, kwargs))\n",
    "    return results"
   ]
  },
  {
   "cell_type": "code",
   "execution_count": null,
   "metadata": {},
   "outputs": [],
   "source": [
    "def show_result_grid(rows, cols, results, image, fig=None, axes=None, figsize=(16, 8)):\n",
    "    if fig==None:\n",
    "        fig, axes = plt.subplots(rows, cols, figsize=figsize)\n",
    "        ax = axes.flatten()\n",
    "\n",
    "    for i, (name, result, evolution, kwargs) in enumerate(results):\n",
    "        iterations = kwargs[\"iterations\"]\n",
    "\n",
    "        contour = ax[i].contour(evolution[iterations//3], [0.5], colors='y')\n",
    "        contour.collections[0].set_label(f\"Iteration {iterations//3}\")\n",
    "\n",
    "        contour = ax[i].contour(evolution[2*iterations//3], [0.5], colors='g')\n",
    "        contour.collections[0].set_label(f\"Iteration {2*iterations//3}\")\n",
    "  \n",
    "        ax[i].imshow(image, cmap=\"gray\")\n",
    "        ax[i].set_axis_off()\n",
    "        ax[i].contour(result, [0.5], colors='r')\n",
    "        ax[i].set_title(name, fontsize=12)\n",
    "\n",
    "    fig.tight_layout()"
   ]
  },
  {
   "cell_type": "code",
   "execution_count": null,
   "metadata": {},
   "outputs": [],
   "source": [
    "from itertools import product\n",
    "basic_args_GAC = {\"iterations\":230, \"smoothing\":1, \"threshold\": 0.7, \"balloon\":-1}\n",
    "\n",
    "def modify_args(update, basic_args=basic_args_GAC):\n",
    "    args_combinations = []\n",
    "    keys = update.keys()\n",
    "    values = [update[k] for k in keys]\n",
    "    \n",
    "    for config in product(*values):\n",
    "        new_values = {k: config[i] for i, k in enumerate(keys)}\n",
    "        name = str(new_values)\n",
    "        args_combinations.append((name, {**basic_args, **new_values}))\n",
    "    \n",
    "    return args_combinations\n",
    "\n",
    "modify_args({\"iterations\": [1,2], 'smoothing': [1,2]})"
   ]
  },
  {
   "cell_type": "markdown",
   "metadata": {},
   "source": [
    "# GAC"
   ]
  },
  {
   "cell_type": "code",
   "execution_count": null,
   "metadata": {},
   "outputs": [],
   "source": [
    "fig, ax = plt.subplots(1, 1)\n",
    "visualization.draw_spectrogram(spec_log, ax=ax)"
   ]
  },
  {
   "cell_type": "code",
   "execution_count": null,
   "metadata": {
    "tags": []
   },
   "outputs": [],
   "source": [
    "args = modify_args({\"threshold\": [i/10 for i in range(4,8)], 'balloon': [-1, -0.8, -0.6, -0.4]})\n",
    "results = get_results_GAC(args, image)"
   ]
  },
  {
   "cell_type": "code",
   "execution_count": null,
   "metadata": {},
   "outputs": [],
   "source": [
    "show_result_grid(4, 4, results, image)"
   ]
  },
  {
   "cell_type": "code",
   "execution_count": null,
   "metadata": {},
   "outputs": [],
   "source": [
    "args = modify_args({\"threshold\": [i/10 for i in [7, 8, 9]], 'balloon': [-1, -0.9, -0.8, -0.7]})\n",
    "results = get_results_GAC(args, image)"
   ]
  },
  {
   "cell_type": "code",
   "execution_count": null,
   "metadata": {
    "tags": []
   },
   "outputs": [],
   "source": [
    "show_result_grid(3, 4, results, image)"
   ]
  },
  {
   "cell_type": "code",
   "execution_count": null,
   "metadata": {},
   "outputs": [],
   "source": [
    "basic =  {\"iterations\":230, \"smoothing\":0, \"threshold\": 0.9, \"balloon\":-1}\n",
    "args = modify_args({\"threshold\":[0.85, 0.9, 0.95]}, basic)\n",
    "results = get_results_GAC(args, image)"
   ]
  },
  {
   "cell_type": "code",
   "execution_count": null,
   "metadata": {},
   "outputs": [],
   "source": [
    "show_result_grid(3, 1, results, image)"
   ]
  },
  {
   "cell_type": "markdown",
   "metadata": {},
   "source": [
    "# ACWE"
   ]
  },
  {
   "cell_type": "markdown",
   "metadata": {},
   "source": [
    "`ones` initial level set - very bad results  \n",
    "`checkboard` initial level set - acceptable results"
   ]
  },
  {
   "cell_type": "code",
   "execution_count": null,
   "metadata": {},
   "outputs": [],
   "source": [
    "basic =  {'iterations': 30, 'smoothing': 3, 'lambda1': 1, 'lambda2': 1}\n",
    "args = modify_args({\"iterations\": [30, 50, 80, 100]}, basic)\n",
    "results = get_results_ACWE(args, image)"
   ]
  },
  {
   "cell_type": "raw",
   "metadata": {},
   "source": [
    "show_result_grid(4, 1, results, image)\n",
    "plt.title(\"ACWE\")"
   ]
  },
  {
   "cell_type": "code",
   "execution_count": null,
   "metadata": {},
   "outputs": [],
   "source": [
    "basic =  {'iterations': 40, 'smoothing': 3, 'lambda1': 1, 'lambda2': 1}\n",
    "args = modify_args({\"lambda1\": [0, 0.5, 1.], \"lambda2\": [0, 0.5, 1.]}, basic)\n",
    "results = get_results_ACWE(args, image)"
   ]
  },
  {
   "cell_type": "code",
   "execution_count": null,
   "metadata": {},
   "outputs": [],
   "source": [
    "show_result_grid(3, 3, results, image)"
   ]
  },
  {
   "cell_type": "code",
   "execution_count": null,
   "metadata": {},
   "outputs": [],
   "source": [
    "basic =  {'iterations': 40, 'smoothing': 3, 'lambda1': 1, 'lambda2': 1}\n",
    "args = modify_args({\"lambda1\": [0.995, 1., 1.005]}, basic)\n",
    "results = get_results_ACWE(args, image)"
   ]
  },
  {
   "cell_type": "code",
   "execution_count": null,
   "metadata": {},
   "outputs": [],
   "source": [
    "show_result_grid(3, 1, results, image)"
   ]
  },
  {
   "cell_type": "code",
   "execution_count": null,
   "metadata": {},
   "outputs": [],
   "source": []
  }
 ],
 "metadata": {
  "kernelspec": {
   "display_name": "Python 3",
   "language": "python",
   "name": "python3"
  },
  "language_info": {
   "codemirror_mode": {
    "name": "ipython",
    "version": 3
   },
   "file_extension": ".py",
   "mimetype": "text/x-python",
   "name": "python",
   "nbconvert_exporter": "python",
   "pygments_lexer": "ipython3",
   "version": "3.7.3"
  }
 },
 "nbformat": 4,
 "nbformat_minor": 4
}
