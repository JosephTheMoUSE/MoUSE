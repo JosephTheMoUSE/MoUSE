{
 "cells": [
  {
   "cell_type": "markdown",
   "metadata": {
    "pycharm": {
     "is_executing": true
    }
   },
   "source": [
    "# Entropy-energy search"
   ]
  },
  {
   "cell_type": "code",
   "execution_count": null,
   "metadata": {},
   "outputs": [],
   "source": [
    "%matplotlib inline\n",
    "import matplotlib.pyplot as plt\n",
    "import numpy as np\n",
    "import cv2\n",
    "from scipy import stats, signal\n",
    "from tqdm.notebook import tqdm\n",
    "\n",
    "from mouse.utils import constants\n",
    "from mouse.utils import data_util\n",
    "from mouse.utils import metrics\n",
    "from mouse.utils import sound_util\n",
    "from mouse.utils import visualization"
   ]
  },
  {
   "cell_type": "markdown",
   "metadata": {},
   "source": [
    "## Implementation"
   ]
  },
  {
   "cell_type": "code",
   "execution_count": null,
   "metadata": {},
   "outputs": [],
   "source": [
    "data = data_util.load_data(constants.LABELED_SOURCES)"
   ]
  },
  {
   "cell_type": "code",
   "execution_count": null,
   "metadata": {
    "pycharm": {
     "name": "#%%\n"
    }
   },
   "outputs": [],
   "source": [
    "def entropy(x):\n",
    "    x = np.array(x)\n",
    "    return stats.mstats.gmean(x, axis=0) / np.mean(x, axis=0)\n",
    "\n",
    "def moving_average(x, w):\n",
    "    x = np.pad(x, (w//2, (w-1)//2), 'constant', constant_values=(1,))\n",
    "    return np.convolve(x, np.ones(w), 'valid') / w\n",
    "\n",
    "def moving_average_2d(x, w_height, w_width):\n",
    "    x = np.pad(x, ((w_height//2, (w_height-1)//2),(0,0)), 'mean')\n",
    "    return signal.convolve2d(x, np.ones((w_height, w_width)), 'valid').flatten() / (w_height * w_width)"
   ]
  },
  {
   "cell_type": "code",
   "execution_count": null,
   "metadata": {
    "pycharm": {
     "name": "#%%\n"
    }
   },
   "outputs": [],
   "source": [
    "def entropy_plot(signal, window=100):\n",
    "    spec = sound_util.spectrogram(signal[None, :])\n",
    "    spec_ = spec.spec[spec.freqs > 22000, :]\n",
    "    plt.figure(figsize=(10,5))\n",
    "    plt.plot(moving_average(entropy(spec_), window))\n",
    "    plt.show()\n",
    "\n",
    "def draw_spectrogram(times, freqs, spec, title=''):\n",
    "    plt.figure(figsize=(10,5))\n",
    "    plt.pcolormesh(times, freqs, spec, shading='gouraud')\n",
    "    plt.title(title)\n",
    "    #plt.ylabel('Frequency [Hz]')\n",
    "    #plt.xlabel('Time [sec]')"
   ]
  },
  {
   "cell_type": "code",
   "execution_count": null,
   "metadata": {
    "pycharm": {
     "name": "#%%\n"
    }
   },
   "outputs": [],
   "source": [
    "# # Code operating on binary maps\n",
    "# def mark_low_entropy(spectrogram, window=100, threshold=0.780):\n",
    "#     avg_entropy = moving_average(entropy(spectrogram), window)\n",
    "#     low_entropy = avg_entropy < threshold\n",
    "#     return np.array([low_entropy]*spectrogram.shape[0])\n",
    "\n",
    "# def mark_high_energy_rows(spectrogram, energy_window=10, energy_threshold=1.5):\n",
    "#     mean_energy = np.mean(np.power(spectrogram, 2).numpy())\n",
    "#     width = spectrogram.shape[1]\n",
    "\n",
    "#     return moving_average_2d(np.power(spectrogram, 2).numpy(), energy_window, width) > energy_threshold * mean_energy\n",
    "\n",
    "# def mark_high_energy(spectrogram, mask_to_check, energy_window, energy_threshold):\n",
    "#     i = 0\n",
    "#     while i < spectrogram.shape[1]:\n",
    "#         if mask_to_check[0, i]:\n",
    "#             start = i\n",
    "#             stop = i\n",
    "#             while stop < spectrogram.shape[1] and mask_to_check[0, stop]:\n",
    "#                 stop += 1\n",
    "#             marked_energy = mark_high_energy_rows(spectrogram[:,start:stop], energy_window, energy_threshold)\n",
    "#             for j in range(start, stop):\n",
    "#                 mask_to_check[:, j] = marked_energy\n",
    "#             i = stop\n",
    "#         else:\n",
    "#             i += 1\n",
    "#     return mask_to_check\n",
    "\n",
    "# def mark_low_entropy_high_energy(spectrogram, entropy_window=100, entropy_threshold=0.780, energy_window=10, energy_threshold=1.5):\n",
    "#     marked_entropy = mark_low_entropy(spectrogram, entropy_window, entropy_threshold)\n",
    "#     #return marked_entropy\n",
    "#     return mark_high_energy(spectrogram, marked_entropy, energy_window, energy_threshold)\n",
    "  \n",
    "# freq_cutoff = int(22/sound_data.duration * spect.freqs.shape[0])\n",
    "# delta_time = int(0.25/sound_data.duration * spect.times.shape[0])\n",
    "# start_time = int(4.6/sound_data.duration * spect.times.shape[0])\n",
    "# end_time = start_time + delta_time\n",
    "\n",
    "# marked = mark_low_entropy_high_energy(\n",
    "#     spect.spec[freq_cutoff:, \n",
    "#     start_time:end_time], \n",
    "#     entropy_window=10,\n",
    "#     entropy_threshold=0.790,\n",
    "#     energy_window=20,\n",
    "#     energy_threshold=1.5)\n",
    "# plt.figure(figsize=(10, 10))\n",
    "# plt.imshow(spect.spec[freq_cutoff:, start_time:end_time])\n",
    "# plt.imshow(marked, cmap='jet', alpha=0.2)\n",
    "# plt.show()    "
   ]
  },
  {
   "cell_type": "code",
   "execution_count": null,
   "metadata": {},
   "outputs": [],
   "source": [
    "def binary_mask_to_ranges(binary_mask):\n",
    "    beginnings = [i+1 for i in range(binary_mask.shape[0]-1) if not binary_mask[i] and binary_mask[i+1]]\n",
    "    \n",
    "    ends = [i-1 for i in range(1, binary_mask.shape[0]) if binary_mask[i-1] and not binary_mask[i]]\n",
    "    \n",
    "    if binary_mask[0]:\n",
    "        beginnings = [0] + beginnings\n",
    "    \n",
    "    if binary_mask[-1]:\n",
    "        ends.append(binary_mask.shape[0])\n",
    "        \n",
    "    return list(zip(beginnings, ends))\n",
    "\n",
    "def mark_low_entropy(spectrogram, window=100, threshold=0.780):\n",
    "    avg_entropy = moving_average(entropy(spectrogram), window)\n",
    "    low_entropy = avg_entropy < threshold\n",
    "        \n",
    "    return binary_mask_to_ranges(low_entropy)\n",
    "\n",
    "def mark_high_energy_rows(spectrogram, energy_window=10, energy_threshold=1.5):\n",
    "    if not isinstance(spectrogram, np.ndarray):\n",
    "        spectrogram = spectrogram.numpy()\n",
    "    mean_energy = np.mean(np.power(spectrogram, 2))\n",
    "    width = spectrogram.shape[1]\n",
    "    high_energy = moving_average_2d(np.power(spectrogram, 2), energy_window, width) > energy_threshold * mean_energy\n",
    "    return binary_mask_to_ranges(high_energy)\n",
    "\n",
    "def mark_low_entropy_high_energy(spectrogram, freqs, freq_cutoff=22000, entropy_window=100, entropy_threshold=0.780, energy_window=10, energy_threshold=1.5):\n",
    "    spectrogram_ = spectrogram[freqs > freq_cutoff,:]\n",
    "    print(spectrogram_.shape)\n",
    "    delta_freq = spectrogram.shape[0] - spectrogram_.shape[0]\n",
    "    columns_to_check = mark_low_entropy(spectrogram_, entropy_window, entropy_threshold)\n",
    "    squeak_boxes = []\n",
    "    for cols in columns_to_check:\n",
    "        row_ranges = mark_high_energy_rows(spectrogram_[:, cols[0]:cols[1]+1], energy_window, energy_threshold)\n",
    "        for rows in row_ranges:\n",
    "            squeak_boxes.append(data_util.SqueakBox(\n",
    "                freq_start=rows[0] + delta_freq, \n",
    "                freq_end=rows[1] + delta_freq, \n",
    "                t_start=cols[0], \n",
    "                t_end=cols[1],  \n",
    "                label=None))\n",
    "    return squeak_boxes\n",
    "\n",
    "def merge_entropy_neighbors(squeaks, delta_freq, delta_time):\n",
    "    squeaks.sort(key=lambda squeak : (squeak.t_start, squeak.freq_start))\n",
    "    print(squeaks)\n",
    "    result = []\n",
    "    to_merge = []\n",
    "    merged = data_util.SqueakBox(0, 0, 0, 0, None)\n",
    "    for i in range(len(squeaks)):\n",
    "        \n",
    "        if len(to_merge) > 0:\n",
    "            print(\"f\", abs(squeaks[i].freq_start - to_merge[-1].freq_end))\n",
    "            print(\"t\", squeaks[i].t_start - to_merge[-1].t_end)\n",
    "            print(to_merge[-1])\n",
    "            print(squeaks[i])\n",
    "            if (squeaks[i].t_start - to_merge[-1].t_end <= delta_time \n",
    "                and abs(squeaks[i].freq_start - to_merge[-1].freq_end) <= delta_freq):\n",
    "                to_merge.append(squeaks[i])\n",
    "            else:\n",
    "                merged_squeak = data_util.SqueakBox(\n",
    "                    freq_start = min(to_merge, key=lambda squeak: squeak.freq_start).freq_start,\n",
    "                    freq_end = max(to_merge, key=lambda squeak: squeak.freq_end).freq_end,\n",
    "                    t_start = min(to_merge, key=lambda squeak: squeak.t_start).t_start,\n",
    "                    t_end = max(to_merge, key=lambda squeak: squeak.t_end).t_end,\n",
    "                    label = None\n",
    "                )\n",
    "                result.append(merged_squeak)\n",
    "                to_merge = []\n",
    "            \n",
    "        if len(to_merge) == 0:\n",
    "            to_merge.append(squeaks[i]) \n",
    "            \n",
    "    if len(to_merge) > 0:\n",
    "        merged_squeak = data_util.SqueakBox(\n",
    "            freq_start = min(to_merge, key=lambda squeak: squeak.freq_start).freq_start,\n",
    "            freq_end = max(to_merge, key=lambda squeak: squeak.freq_end).freq_end,\n",
    "            t_start = min(to_merge, key=lambda squeak: squeak.t_start).t_start,\n",
    "            t_end = max(to_merge, key=lambda squeak: squeak.t_end).t_end,\n",
    "            label = None\n",
    "            )\n",
    "        result.append(merged_squeak)\n",
    "        to_merge = []\n",
    "            \n",
    "    return result\n",
    "\n",
    "def merge_entropy_neighbors(squeaks, delta_freq, delta_time):\n",
    "    squeaks.sort(key=lambda squeak : (squeak.t_start, squeak.freq_start))\n",
    "\n",
    "    result = []\n",
    "    merged = data_util.SqueakBox(0, 0, 0, 0, None)\n",
    "    merged_present = False\n",
    "    for i in range(len(squeaks)):\n",
    "\n",
    "        if merged_present:\n",
    "\n",
    "            if (squeaks[i].t_start - merged.t_end <= delta_time \n",
    "                and (abs(squeaks[i].freq_start - merged.freq_end) <= delta_freq\n",
    "                or abs(squeaks[i].freq_end - merged.freq_start) <= delta_freq)):\n",
    "                \n",
    "                merged = data_util.SqueakBox(\n",
    "                    t_start = min(squeaks[i].t_start, merged.t_start),\n",
    "                    t_end = max(squeaks[i].t_end, merged.t_end),\n",
    "                    freq_start = min(squeaks[i].freq_start, merged.freq_start),\n",
    "                    freq_end = max(squeaks[i].freq_end, merged.freq_end),\n",
    "                    label = None)\n",
    "            else:\n",
    "                result.append(merged)\n",
    "                merged = data_util.SqueakBox(0, 0, 0, 0, None)\n",
    "                merged_present = False\n",
    "            \n",
    "        if not merged_present:\n",
    "            merged = squeaks[i] \n",
    "            merged_present = True\n",
    "            \n",
    "    if merged_present:\n",
    "        result.append(merged)\n",
    "            \n",
    "    return result\n",
    "\n",
    "def filter_by_ratio(squeaks, ratio_cutoff):\n",
    "    result = []\n",
    "    for squeak in squeaks:\n",
    "        width = squeak.t_end - squeak.t_start\n",
    "        height = squeak.freq_end - squeak.freq_start\n",
    "\n",
    "        if width > 0 and height / width < ratio_cutoff:\n",
    "            result.append(squeak)\n",
    "    return result\n",
    "            \n",
    "def get_squeak_boxes(\n",
    "    spectrogram, \n",
    "    entropy_window=100, \n",
    "    entropy_threshold=0.780, \n",
    "    energy_window=10, \n",
    "    energy_threshold=1.5):\n",
    "    \n",
    "    squeak_boxes = mark_low_entropy_high_energy(\n",
    "        spectrogram.spec, \n",
    "        entropy_window, \n",
    "        entropy_threshold, \n",
    "        energy_window, \n",
    "        energy_threshold)\n",
    "    print(squeak_boxes)\n",
    "    delta_freq = spectrogram.freqs[-1] - spectrogram.freqs[0]\n",
    "    delta_time = spectrogram.times[-1] - spectrogram.times[0]\n",
    "    return [data_util.SqueakBox(\n",
    "        freq_start=spectrogram.freqs[0] + squeak.freq_start * delta_freq / spectrogram.freqs.shape[0],\n",
    "        freq_end=spectrogram.freqs[0] + squeak.freq_end * delta_freq / spectrogram.freqs.shape[0],\n",
    "        t_start=spectrogram.times[0] + squeak.t_start * delta_time / spectrogram.times.shape[0],\n",
    "        t_end=spectrogram.times[0] + squeak.t_end * delta_time / spectrogram.times.shape[0],\n",
    "        label=None\n",
    "    ) for squeak in squeak_boxes]"
   ]
  },
  {
   "cell_type": "code",
   "execution_count": null,
   "metadata": {},
   "outputs": [],
   "source": [
    "def draw_detection(start_time = 2.5, delta_time = 1.):\n",
    "    freq_cutoff = int(22 / sound_data.duration * spect.freqs.shape[0])\n",
    "    delta_time = int(delta_time / sound_data.duration * spect.times.shape[0])\n",
    "    start_time = int(start_time / sound_data.duration * spect.times.shape[0])\n",
    "    end_time = start_time + delta_time\n",
    "\n",
    "    spect_fragment = sound_util.SpectrogramData(\n",
    "        spect.spec[freq_cutoff:,start_time:end_time],\n",
    "        spect.times[start_time:end_time],\n",
    "        spect.freqs[freq_cutoff:]\n",
    "    )\n",
    "    marked = mark_low_entropy_high_energy(\n",
    "        spect_fragment.spec, \n",
    "        spect_fragment.freqs, \n",
    "        entropy_window=5,\n",
    "        entropy_threshold=0.79,\n",
    "        energy_window=18,\n",
    "        energy_threshold=2.1)\n",
    "    marked_merged = merge_entropy_neighbors(marked, 35, 10)\n",
    "    marked_filtered = filter_by_ratio(marked_merged, 2.1)\n",
    "\n",
    "    #ground_truth = data_util.load_squeak_boxes(data[0].df, data[0].wavs[0], spect_fragment)\n",
    "    ground_truth = data_util.load_squeak_boxes(data[0].df, data[0].wavs[-1], spect_fragment)\n",
    "\n",
    "    axs = plt.figure(figsize=(20, 40)).subplots(1, 1)\n",
    "    visualization.draw_spectrogram(spect_fragment, axs)\n",
    "    visualization.draw_boxes(marked, spect_fragment.get_height(), axs)\n",
    "    visualization.draw_boxes(marked_filtered, spect_fragment.get_height(), axs, edgecolor=\"yellow\")\n",
    "    visualization.draw_boxes(ground_truth, spect_fragment.get_height(), axs, edgecolor=\"green\")"
   ]
  },
  {
   "cell_type": "code",
   "execution_count": null,
   "metadata": {},
   "outputs": [],
   "source": [
    "def draw_spectrogram_for_comparison(start_time = 2.5, delta_time = 1.):\n",
    "    #Spectrogram\n",
    "    freq_cutoff = 0\n",
    "    delta_time = int(delta_time/sound_data.duration * spect.times.shape[0])\n",
    "    start_time = int(start_time/sound_data.duration * spect.times.shape[0])\n",
    "    end_time = start_time + delta_time\n",
    "    draw_spectrogram(spect.times[start_time:end_time], spect.freqs[freq_cutoff:], spect.spec[freq_cutoff:, start_time:end_time])\n",
    "    plt.show()\n",
    "def draw_entropy_for_comparison(start_time = 2.5, delta_time = 1.):\n",
    "    # Entropy plot\n",
    "    delta_time = int(delta_time/sound_data.duration * sound_data.signal.shape[0])\n",
    "    start_time = int(start_time/sound_data.duration * sound_data.signal.shape[0])\n",
    "    end_time = start_time + delta_time\n",
    "    entropy_plot(sound_data.signal[start_time:end_time], window=5)\n",
    "    plt.show()"
   ]
  },
  {
   "cell_type": "code",
   "execution_count": null,
   "metadata": {},
   "outputs": [],
   "source": [
    "def split_draw_spectrogram(freqs, times, spec, real_squeaks, detected_boxes, data_folder, signal_name, t_delta=1.5):\n",
    "    t_span = times[-1] - times[0]\n",
    "    plots_needed = int(t_span // t_delta) + 1\n",
    "    fig, axes = plt.subplots(plots_needed, 1, figsize=(11, 2*plots_needed))\n",
    "    if plots_needed > 1:\n",
    "        axes = axes.ravel()\n",
    "    else:\n",
    "        axes = [axes]\n",
    "        \n",
    "    t_start = times[0]\n",
    "    vmin = np.min(np.log10(spec))\n",
    "    vmax = np.max(np.log10(spec))\n",
    "    \n",
    "    for ax in tqdm(axes):\n",
    "        t_idx = np.logical_and(times >= t_start, times < t_start + t_delta)\n",
    "        sub_times = times[t_idx]\n",
    "        sub_spec = spec[:, t_idx]\n",
    "        sub_spec_len = sub_spec.shape[1]\n",
    "        real_squeaks = data_util.load_squeak_boxes(data_folder, signal_name, \n",
    "                                                   sound_util.SpectrogramData(spec=np.log10(sub_spec), freqs=freqs, times=sub_times))\n",
    "        sub_boxes = []\n",
    "        \n",
    "        for box in detected_boxes:\n",
    "            if np.any(t_idx[box.t_start:box.t_end]):\n",
    "                shift = np.min(np.argwhere(t_idx))\n",
    "                sub_boxes.append(data_util.SqueakBox(freq_start=box.freq_start,\n",
    "                                                    freq_end=box.freq_end,\n",
    "                                                    label=None,\n",
    "                                                    t_start=np.clip(box.t_start - shift, 0, sub_spec_len),\n",
    "                                                    t_end=np.clip(box.t_end - shift, 0, sub_spec_len)))\n",
    "\n",
    "        visualization.draw_spectrogram(sound_util.SpectrogramData(spec=np.log10(sub_spec), freqs=freqs, times=sub_times), ax, vmin=vmin, vmax=vmax)\n",
    "        visualization.draw_boxes(real_squeaks, sub_spec.shape[0], ax, linewidth=1, facecolor='none')\n",
    "        visualization.draw_boxes(sub_boxes, sub_spec.shape[0], ax, edgecolor='cyan', linewidth=1, facecolor='none')\n",
    "        t_start += t_delta"
   ]
  },
  {
   "cell_type": "code",
   "execution_count": null,
   "metadata": {},
   "outputs": [],
   "source": [
    "def intersection_over_union_elementwise(prediction, ground_truth):\n",
    "            \n",
    "    return (metrics.intersection_over_union_elementwise(prediction, ground_truth),\n",
    "           metrics.intersection_over_union_elementwise(ground_truth, prediction))"
   ]
  },
  {
   "cell_type": "markdown",
   "metadata": {},
   "source": [
    "## Examples"
   ]
  },
  {
   "cell_type": "code",
   "execution_count": null,
   "metadata": {},
   "outputs": [],
   "source": [
    "sound_data = sound_util.SignalData(data[0].wavs[0])\n",
    "spect = sound_util.signal_spectrogram(sound_data)"
   ]
  },
  {
   "cell_type": "markdown",
   "metadata": {},
   "source": [
    "### Whole spectrogram - no denoising"
   ]
  },
  {
   "cell_type": "code",
   "execution_count": null,
   "metadata": {},
   "outputs": [],
   "source": [
    "ground_truth = data_util.load_squeak_boxes(data[0].df, data[0].wavs[0], spect)\n",
    "#Best so far: (5, 0.71, 18, 2.1, 35, 10, 2.1)\n",
    "marked = mark_low_entropy_high_energy(\n",
    "                     spect.spec, \n",
    "                     spect.freqs,\n",
    "                     entropy_window=5,\n",
    "                     entropy_threshold=0.71,\n",
    "                     energy_window=18,\n",
    "                     energy_threshold=2.1)\n",
    "marked_merged = merge_entropy_neighbors(marked, 35, 10)\n",
    "marked_filtered = filter_by_ratio(marked_merged, 2.1)"
   ]
  },
  {
   "cell_type": "code",
   "execution_count": null,
   "metadata": {},
   "outputs": [],
   "source": [
    "ground_truth = data_util.load_squeak_boxes(data[0].df, data[0].wavs[0], spect)"
   ]
  },
  {
   "cell_type": "code",
   "execution_count": null,
   "metadata": {},
   "outputs": [],
   "source": [
    "#positive_true_raw, true_positive_raw = intersection_over_union_elementwise(marked, ground_truth)\n",
    "positive_true_filtered, true_positive_filtered = intersection_over_union_elementwise(marked_filtered, ground_truth)\n",
    "positive_true_merged, true_positive_merged = intersection_over_union_elementwise(marked_merged, ground_truth)"
   ]
  },
  {
   "cell_type": "code",
   "execution_count": null,
   "metadata": {
    "scrolled": true
   },
   "outputs": [],
   "source": [
    "print(\"Raw detections\")\n",
    "s = np.array(spect.spec)\n",
    "t_delta = 1\n",
    "s[s==0] = np.min(s[s!=0])\n",
    "split_draw_spectrogram(\n",
    "    spect.freqs,\n",
    "    spect.times, \n",
    "    s,\n",
    "    ground_truth,\n",
    "    marked, \n",
    "    data[0].df,\n",
    "    data[0].wavs[0])\n",
    "plt.tight_layout()\n",
    "plt.show()"
   ]
  },
  {
   "cell_type": "code",
   "execution_count": null,
   "metadata": {
    "scrolled": true
   },
   "outputs": [],
   "source": [
    "print(\"Merged detections\")\n",
    "precision = metrics.detection_precision(\n",
    "    pred_given_truth_iou_dict=true_positive_merged, \n",
    "    truth_given_pred_iou_dict=positive_true_merged,\n",
    "    threshold = 0.1)\n",
    "print(f\"Precision: {precision}\")\n",
    "\n",
    "recall_overall, recall_labels = metrics.detection_recall(\n",
    "    pred_given_truth_iou_dict=true_positive_merged, \n",
    "    threshold = 0.1)\n",
    "print(f\"Overall recall: {recall_overall}\")\n",
    "print(\"Recall per label:\")\n",
    "for label, recall in recall_labels.items():\n",
    "    print(f\"                  {label} : {recall}\")\n",
    "# Plot spectrogram    \n",
    "s = np.array(spect.spec)\n",
    "t_delta = 1\n",
    "s[s==0] = np.min(s[s!=0])\n",
    "split_draw_spectrogram(\n",
    "    spect.freqs,\n",
    "    spect.times, \n",
    "    s,\n",
    "    ground_truth,\n",
    "    marked_merged, \n",
    "    data[0].df,\n",
    "    data[0].wavs[0])\n",
    "plt.tight_layout()\n",
    "plt.show()"
   ]
  },
  {
   "cell_type": "code",
   "execution_count": null,
   "metadata": {},
   "outputs": [],
   "source": [
    "print(\"Filtered detections\")\n",
    "precision = metrics.detection_precision(\n",
    "    pred_given_truth_iou_dict=true_positive_filtered, \n",
    "    truth_given_pred_iou_dict=positive_true_filtered,\n",
    "    threshold = 0.1)\n",
    "print(f\"Precision: {precision}\")\n",
    "\n",
    "recall_overall, recall_labels = metrics.detection_recall(\n",
    "    pred_given_truth_iou_dict=true_positive_filtered, \n",
    "    threshold = 0.1)\n",
    "print(f\"Overall recall: {recall_overall}\")\n",
    "print(\"Recall per label:\")\n",
    "for label, recall in recall_labels.items():\n",
    "    print(f\"                  {label} : {recall}\")\n",
    "# Plot spectrogram    \n",
    "s = np.array(spect.spec)\n",
    "t_delta = 1\n",
    "s[s==0] = np.min(s[s!=0])\n",
    "split_draw_spectrogram(\n",
    "    spect.freqs,\n",
    "    spect.times, \n",
    "    s,\n",
    "    ground_truth,\n",
    "    marked_filtered, \n",
    "    data[0].df,\n",
    "    data[0].wavs[0])\n",
    "plt.tight_layout()\n",
    "plt.show()"
   ]
  },
  {
   "cell_type": "markdown",
   "metadata": {},
   "source": [
    "### Whole spectrogram - denoising"
   ]
  },
  {
   "cell_type": "code",
   "execution_count": null,
   "metadata": {},
   "outputs": [],
   "source": [
    "# adaptive_histogram_equalization\n",
    "# h, w = spect.spec.shape\n",
    "# num_tiles = (max(h // 50, 2), max(w // 50, 2))\n",
    "# #num_tiles = (8, 16)\n",
    "# clip_limit = 0.05\n",
    "# alpha = 0.1\n",
    "\n",
    "# spec_den = test_utils.adaptive_histogram_equalization(\n",
    "#             test_utils.log_and_normalize(spect.spec),\n",
    "#             num_tiles=num_tiles,\n",
    "#             clip_limit=clip_limit,\n",
    "#             alpha=alpha)"
   ]
  },
  {
   "cell_type": "markdown",
   "metadata": {},
   "source": [
    "### Bilateral Filter"
   ]
  },
  {
   "cell_type": "code",
   "execution_count": null,
   "metadata": {},
   "outputs": [],
   "source": [
    "blur = cv2.bilateralFilter(spect.spec.numpy(), 9,75,75)"
   ]
  },
  {
   "cell_type": "code",
   "execution_count": null,
   "metadata": {},
   "outputs": [],
   "source": [
    "# start_time = 3.5\n",
    "# delta_time = 1.\n",
    "# #Spectrogram\n",
    "# freq_cutoff = 0\n",
    "# delta_time = int(delta_time/sound_data.duration * spect.times.shape[0])\n",
    "# start_time = int(start_time/sound_data.duration * spect.times.shape[0])\n",
    "# end_time = start_time + delta_time\n",
    "# draw_spectrogram(spect.times[start_time:end_time], spect.freqs[freq_cutoff:], blur[freq_cutoff:, start_time:end_time])\n",
    "# plt.show()\n",
    "\n",
    "# spec_ = blur[spect.freqs > 22000, :]\n",
    "# plt.figure(figsize=(10,5))\n",
    "# plt.plot(moving_average(entropy(spec_[freq_cutoff:, start_time:end_time]), 5))\n",
    "# plt.show()"
   ]
  },
  {
   "cell_type": "code",
   "execution_count": null,
   "metadata": {},
   "outputs": [],
   "source": [
    "ground_truth = data_util.load_squeak_boxes(data[0].df, data[0].wavs[0], spect)\n",
    "#Best so far: (5, 0.71, 18, 2.1, 35, 10, 2.1)\n",
    "marked_den = mark_low_entropy_high_energy(\n",
    "                     blur, \n",
    "                     spect.freqs,\n",
    "                     entropy_window=5,\n",
    "                     entropy_threshold=0.91,\n",
    "                     energy_window=18,\n",
    "                     energy_threshold=2.1)\n",
    "marked_merged_den = merge_entropy_neighbors(marked_den, 35, 10)\n",
    "marked_filtered_den = filter_by_ratio(marked_merged_den, 2.1)"
   ]
  },
  {
   "cell_type": "code",
   "execution_count": null,
   "metadata": {},
   "outputs": [],
   "source": [
    "#positive_true_raw_den, true_positive_raw_den = intersection_over_union_elementwise(marked_den, ground_truth_den)\n",
    "positive_true_filtered_den, true_positive_filtered_den = intersection_over_union_elementwise(marked_filtered_den, ground_truth)\n",
    "positive_true_merged_den, true_positive_merged_den = intersection_over_union_elementwise(marked_merged_den, ground_truth)"
   ]
  },
  {
   "cell_type": "code",
   "execution_count": null,
   "metadata": {
    "scrolled": true
   },
   "outputs": [],
   "source": [
    "print(\"Raw detections (denoising)\")\n",
    "s = np.array(blur)\n",
    "t_delta = 1\n",
    "s[s==0] = np.min(s[s!=0])\n",
    "split_draw_spectrogram(\n",
    "    spect.freqs,\n",
    "    spect.times, \n",
    "    s,\n",
    "    ground_truth,\n",
    "    marked_den, \n",
    "    data[0].df,\n",
    "    data[0].wavs[0])\n",
    "plt.tight_layout()\n",
    "plt.show()"
   ]
  },
  {
   "cell_type": "code",
   "execution_count": null,
   "metadata": {
    "scrolled": true
   },
   "outputs": [],
   "source": [
    "print(\"Merged detections (denoising)\")\n",
    "precision = metrics.detection_precision(\n",
    "    pred_given_truth_iou_dict=true_positive_merged_den, \n",
    "    truth_given_pred_iou_dict=positive_true_merged_den,\n",
    "    threshold = 0.1)\n",
    "print(f\"Precision: {precision}\")\n",
    "\n",
    "recall_overall, recall_labels = metrics.detection_recall(\n",
    "    pred_given_truth_iou_dict=true_positive_merged_den, \n",
    "    threshold = 0.1)\n",
    "print(f\"Overall recall: {recall_overall}\")\n",
    "print(\"Recall per label:\")\n",
    "for label, recall in recall_labels.items():\n",
    "    print(f\"                  {label} : {recall}\")\n",
    "# Plot spectrogram    \n",
    "s = np.array(blur)\n",
    "t_delta = 1\n",
    "s[s==0] = np.min(s[s!=0])\n",
    "split_draw_spectrogram(\n",
    "    spect.freqs,\n",
    "    spect.times, \n",
    "    s,\n",
    "    ground_truth,\n",
    "    marked_merged_den, \n",
    "    data[0].df,\n",
    "    data[0].wavs[0])\n",
    "plt.tight_layout()\n",
    "plt.show()"
   ]
  },
  {
   "cell_type": "code",
   "execution_count": null,
   "metadata": {},
   "outputs": [],
   "source": [
    "print(\"Filtered detections (denoising)\")\n",
    "precision = metrics.detection_precision(\n",
    "    pred_given_truth_iou_dict=true_positive_filtered_den, \n",
    "    truth_given_pred_iou_dict=positive_true_filtered_den,\n",
    "    threshold = 0.1)\n",
    "print(f\"Precision: {precision}\")\n",
    "\n",
    "recall_overall, recall_labels = metrics.detection_recall(\n",
    "    pred_given_truth_iou_dict=true_positive_filtered_den, \n",
    "    threshold = 0.1)\n",
    "print(f\"Overall recall: {recall_overall}\")\n",
    "print(\"Recall per label:\")\n",
    "for label, recall in recall_labels.items():\n",
    "    print(f\"                  {label} : {recall}\")\n",
    "# Plot spectrogram    \n",
    "s = np.array(blur)\n",
    "t_delta = 1\n",
    "s[s==0] = np.min(s[s!=0])\n",
    "split_draw_spectrogram(\n",
    "    spect.freqs,\n",
    "    spect.times, \n",
    "    s,\n",
    "    ground_truth,\n",
    "    marked_filtered_den, \n",
    "    data[0].df,\n",
    "    data[0].wavs[0])\n",
    "plt.tight_layout()\n",
    "plt.show()"
   ]
  },
  {
   "cell_type": "markdown",
   "metadata": {},
   "source": [
    "### When it doesn't work?"
   ]
  },
  {
   "cell_type": "code",
   "execution_count": null,
   "metadata": {},
   "outputs": [],
   "source": [
    "draw_spectrogram_for_comparison(start_time = 2.5, delta_time = 1.)\n",
    "draw_entropy_for_comparison(start_time = 2.5, delta_time = 1.)"
   ]
  },
  {
   "cell_type": "code",
   "execution_count": null,
   "metadata": {},
   "outputs": [],
   "source": [
    "draw_detection(start_time = 2.5, delta_time = 1.)"
   ]
  },
  {
   "cell_type": "markdown",
   "metadata": {},
   "source": [
    "### When it works?"
   ]
  },
  {
   "cell_type": "code",
   "execution_count": null,
   "metadata": {},
   "outputs": [],
   "source": [
    "draw_spectrogram_for_comparison(start_time = 4.5, delta_time = 2)\n",
    "draw_entropy_for_comparison(start_time = 4.5, delta_time = 2)"
   ]
  },
  {
   "cell_type": "code",
   "execution_count": null,
   "metadata": {},
   "outputs": [],
   "source": [
    "draw_detection(start_time = 4.5, delta_time = 1.)"
   ]
  },
  {
   "cell_type": "markdown",
   "metadata": {},
   "source": [
    "## Evaluation"
   ]
  },
  {
   "cell_type": "code",
   "execution_count": null,
   "metadata": {},
   "outputs": [],
   "source": [
    "# Search space\n",
    "# entropy_window = [5, 6, 7, 8, 9, 10, 11, 12, 13, 14, 15]\n",
    "# entropy_threshold = [0.71, 0.73, 0.75, 0.77, 0.79, 0.81, 0.83, 0.85]\n",
    "# energy_window = [15, 16, 17, 18, 19, 20, 21, 22, 23, 24, 25]\n",
    "# energy_threshold = [1.3, 1.5, 1.7, 1.9, 2.1]\n",
    "# delta_freq = [35, 40, 45, 50]\n",
    "# delta_time = [5, 10, 15, 20]\n",
    "# ratio_cutoff = [1.3, 1.5, 1.7, 1.9, 2.1]\n",
    "# outcome = {}"
   ]
  },
  {
   "cell_type": "code",
   "execution_count": null,
   "metadata": {},
   "outputs": [],
   "source": [
    "# ground_truth = data_util.load_squeak_boxes(data[0].df, data[0].wavs[0], spect)\n",
    "# for ent_w in entropy_window:\n",
    "#     for ent_t in entropy_threshold:\n",
    "#         for ene_w in energy_window:\n",
    "#             for ene_t in energy_threshold:\n",
    "                \n",
    "#                 marked = mark_low_entropy_high_energy(\n",
    "#                     spect.spec, \n",
    "#                     entropy_window=ent_w,\n",
    "#                     entropy_threshold=ent_t,\n",
    "#                     energy_window=ene_w,\n",
    "#                     energy_threshold=ene_t)\n",
    "                \n",
    "#                 for d_f in delta_freq:\n",
    "#                     for d_t in delta_time:\n",
    "#                         marked_merged = merge_entropy_neighbors(marked, d_f, d_t)\n",
    "                        \n",
    "#                         for r_c in ratio_cutoff:\n",
    "#                             marked_filtered = filter_by_ratio(marked_merged, r_c)\n",
    "                            \n",
    "#                             iou = intersection_over_union_global(marked_filtered, ground_truth)\n",
    "#                             outcome[(ent_w, ent_t, ene_w, ene_t, d_f, d_t, r_c)] = iou\n",
    "#                             print(f\"{(ent_w, ent_t, ene_w, ene_t, d_f, d_t, r_c)}: {iou}\")"
   ]
  },
  {
   "cell_type": "code",
   "execution_count": null,
   "metadata": {},
   "outputs": [],
   "source": [
    "ground_truth = data_util.load_squeak_boxes(data[0].df, data[0].wavs[0], spect)"
   ]
  },
  {
   "cell_type": "code",
   "execution_count": null,
   "metadata": {},
   "outputs": [],
   "source": [
    "#Best so far: (5, 0.71, 18, 2.1, 35, 10, 2.1)\n",
    "marked = mark_low_entropy_high_energy(\n",
    "                     spect.spec, \n",
    "                     entropy_window=5,\n",
    "                     entropy_threshold=0.71,\n",
    "                     energy_window=18,\n",
    "                     energy_threshold=2.1)\n",
    "marked_merged = merge_entropy_neighbors(marked, 35, 10)\n",
    "marked_filtered = filter_by_ratio(marked_merged, 2.1)"
   ]
  },
  {
   "cell_type": "code",
   "execution_count": null,
   "metadata": {},
   "outputs": [],
   "source": [
    "positive_true_filtered, true_positive_filtered = intersection_over_union_elementwise(marked_filtered, ground_truth)\n",
    "positive_true, true_positive = intersection_over_union_elementwise(marked_merged, ground_truth)"
   ]
  },
  {
   "cell_type": "markdown",
   "metadata": {},
   "source": [
    "### Ground truth given prediction"
   ]
  },
  {
   "cell_type": "code",
   "execution_count": null,
   "metadata": {},
   "outputs": [],
   "source": [
    "d = metrics.iou_dict_to_plain_list(positive_true_filtered, mode='max')\n",
    "#d = metrics.iou_dict_to_plain_list(positive_true, mode='max')\n",
    "bins = 101\n",
    "hist = np.histogram(d, bins)\n",
    "plt.figure(figsize=(20, 5))\n",
    "plt.title(\"IoU histogram (ground truth given prediction)\")\n",
    "plt.bar([i for i in range(101)], hist[0], width=0.8)\n",
    "plt.xticks([2*i for i in range(51)])\n",
    "plt.show()"
   ]
  },
  {
   "cell_type": "markdown",
   "metadata": {},
   "source": [
    "### Prediction given ground truth"
   ]
  },
  {
   "cell_type": "code",
   "execution_count": null,
   "metadata": {},
   "outputs": [],
   "source": [
    "# !\n",
    "#d = metrics.iou_dict_to_plain_list(true_positive_filtered, mode='max')\n",
    "d = metrics.iou_dict_to_plain_list(true_positive, mode='sum')\n",
    "bins = 101\n",
    "hist = np.histogram(d, bins)\n",
    "plt.figure(figsize=(20, 5))\n",
    "plt.title(\"IoU histogram (prediction given ground truth)\")\n",
    "plt.bar([i for i in range(101)], hist[0], width=0.8)\n",
    "plt.xticks([2*i for i in range(51)])\n",
    "plt.show()"
   ]
  },
  {
   "cell_type": "code",
   "execution_count": null,
   "metadata": {},
   "outputs": [],
   "source": [
    "# !\n",
    "#d = metrics.iou_dict_to_label_lists(true_positive_filtered, mode='max')\n",
    "d = metrics.iou_dict_to_label_lists(true_positive, mode='sum')\n",
    "bins = 101\n",
    "for (label, intersections) in d.items():\n",
    "    hist = np.histogram(intersections, bins)\n",
    "    plt.figure(figsize=(20, 5))\n",
    "    plt.title(f\"IoU histogram ({label} prediction given ground truth)\")\n",
    "    plt.bar([i for i in range(101)], hist[0], width=0.8)\n",
    "    plt.xticks([2*i for i in range(51)])\n",
    "    plt.show()"
   ]
  },
  {
   "cell_type": "markdown",
   "metadata": {},
   "source": [
    "## Save spectrograms"
   ]
  },
  {
   "cell_type": "code",
   "execution_count": null,
   "metadata": {},
   "outputs": [],
   "source": [
    "# !mkdir figures\n",
    "# !mkdir figures/preprocessed\n",
    "# !mkdir figures/log"
   ]
  },
  {
   "cell_type": "code",
   "execution_count": null,
   "metadata": {},
   "outputs": [],
   "source": [
    "# folders = data_util.load_data(constants.LABELED_SOURCES)"
   ]
  },
  {
   "cell_type": "code",
   "execution_count": null,
   "metadata": {},
   "outputs": [],
   "source": [
    "# for folder in folders:\n",
    "#     for sig in tqdm(folder.signals):\n",
    "# #         if sig.name in ['ch1-2018-11-20_10-20-34_0000006.wav', 'ch1-2018-11-20_10-23-08_0000008.wav',\n",
    "# #                        'ch1-2018-11-20_10-31-42_0000014.wav', 'ch1-2018-11-20_10-39-58_0000019.wav',\n",
    "# #                        'ch1-2018-11-20_10-29-02_0000012.wav', 'ch1-2018-11-20_10-37-25_0000017.wav',\n",
    "# #                        'ch1-2018-11-20_10-42-38_0000021.wav']:\n",
    "# #             continue\n",
    "# #         print(sig.name)\n",
    "#         spec = sound_util.signal_spectrogram(sig)\n",
    "        \n",
    "#         ground_truth = data_util.load_squeak_boxes(folder, sig.name, spec)\n",
    "#         #Best so far: (5, 0.71, 18, 2.1, 35, 10, 2.1)\n",
    "#         marked = mark_low_entropy_high_energy(\n",
    "#                      spec.spec, \n",
    "#                      spec.freqs,\n",
    "#                      entropy_window=5,\n",
    "#                      entropy_threshold=0.71,\n",
    "#                      energy_window=18,\n",
    "#                      energy_threshold=2.1)\n",
    "#         marked_merged = merge_entropy_neighbors(marked, 35, 10)\n",
    "#         marked_filtered = filter_by_ratio(marked_merged, 2.1)\n",
    "        \n",
    "#         raw = [marked, marked_merged, marked_filtered]\n",
    "#         raw_name = ['raw_5_0.91_18_2.1',\n",
    "#                     'merged_5_0.91_18_2.1',\n",
    "#                     'filtered_5_0.91_18_2.1']\n",
    "        \n",
    "#         blur = cv2.bilateralFilter(spec.spec.numpy(), 9,75,75)\n",
    "#         marked_den = mark_low_entropy_high_energy(\n",
    "#                      blur, \n",
    "#                      spec.freqs,\n",
    "#                      entropy_window=5,\n",
    "#                      entropy_threshold=0.91,\n",
    "#                      energy_window=18,\n",
    "#                      energy_threshold=2.1)\n",
    "#         marked_merged_den = merge_entropy_neighbors(marked_den, 35, 10)\n",
    "#         marked_filtered_den = filter_by_ratio(marked_merged_den, 2.1)\n",
    "        \n",
    "#         preprocessed = [marked_den, marked_merged_den, marked_filtered_den]\n",
    "#         preprocessed_name = ['raw_5_0.91_18_2.1_bilateral_9_9_75',\n",
    "#                         'merged_5_0.91_18_2.1_bilateral_9_9_75',\n",
    "#                         'filtered_5_0.91_18_2.1_bilateral_9_9_75']\n",
    "        \n",
    "        \n",
    "#         for i in range(3):\n",
    "            \n",
    "#             plt.figure()\n",
    "#             s = np.array(blur)\n",
    "#             t_delta = 1\n",
    "#             s[s==0] = np.min(s[s!=0])\n",
    "#             split_draw_spectrogram(\n",
    "#                 spec.freqs,\n",
    "#                 spec.times,\n",
    "#                 s,\n",
    "#                 ground_truth,\n",
    "#                 preprocessed[i],\n",
    "#                 folder,\n",
    "#                 sig.name,\n",
    "#                 t_delta=t_delta)\n",
    "#             plt.tight_layout()\n",
    "#             plt.savefig(fname=f'figures/preprocessed/{sig.folder}-{sig.name}--{preprocessed_name[i]}',format='svg', facecolor='w')\n",
    "#             plt.figure()\n",
    "            \n",
    "#             s = np.array(spec.spec)\n",
    "#             t_delta = 1\n",
    "#             s[s==0] = np.min(s[s!=0])\n",
    "#             split_draw_spectrogram(\n",
    "#                 spec.freqs, \n",
    "#                 spec.times, \n",
    "#                 s,\n",
    "#                 ground_truth,\n",
    "#                 raw[i],\n",
    "#                 folder,\n",
    "#                 sig.name,\n",
    "#                 t_delta=t_delta)\n",
    "#             plt.tight_layout()\n",
    "\n",
    "#             plt.savefig(fname=f'figures/log/{sig.folder}-{sig.name}--{raw_name[i]}',format='svg', facecolor='w')"
   ]
  },
  {
   "cell_type": "code",
   "execution_count": null,
   "metadata": {},
   "outputs": [],
   "source": []
  }
 ],
 "metadata": {
  "kernelspec": {
   "display_name": "Python 3 (ipykernel)",
   "language": "python",
   "name": "python3"
  },
  "language_info": {
   "codemirror_mode": {
    "name": "ipython",
    "version": 3
   },
   "file_extension": ".py",
   "mimetype": "text/x-python",
   "name": "python",
   "nbconvert_exporter": "python",
   "pygments_lexer": "ipython3",
   "version": "3.8.5"
  }
 },
 "nbformat": 4,
 "nbformat_minor": 4
}
