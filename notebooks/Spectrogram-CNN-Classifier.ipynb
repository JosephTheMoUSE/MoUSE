{
 "cells": [
  {
   "cell_type": "markdown",
   "source": [
    "# Detection and Classification of Ultrasonic Vocalizations (USVs) in Rodent Audio Data\n",
    "\n",
    "In this notebook, we will demonstrate how to **detect** and **classify** ultrasonic vocalizations (USVs) in rodent audio recordings using spectrogram analysis, Geodesic Active Contours (GAC) for segmentation, and a Convolutional Neural Network (CNN) for classification.\n",
    "\n",
    "## Overview\n",
    "\n",
    "- **Load Audio Data**: Start by loading an audio file containing rodent vocalizations.\n",
    "- **Generate Spectrogram**: Create a spectrogram of a selected segment of the audio data to visualize the frequency content over time.\n",
    "- **Detect USVs**: Use Geodesic Active Contours (GAC) to detect potential USVs in the spectrogram.\n",
    "- **Classify USVs**: Classify the detected USVs using a pre-trained CNN model to distinguish between different types of vocalizations."
   ],
   "metadata": {
    "collapsed": false
   },
   "id": "76a8471040a4d096"
  },
  {
   "cell_type": "markdown",
   "source": [
    "## Importing Libraries\n",
    "\n",
    "We begin by importing the necessary libraries:\n",
    "\n",
    "- **torchaudio**: For loading and processing audio data.\n",
    "- **matplotlib.pyplot**: For plotting and visualizing data.\n",
    "- **mouse.utils**, **mouse.segmentation**, **mouse.classifier**: Custom modules for sound utilities, segmentation, and classification specific to mouse USVs.\n",
    "- **pathlib**, **os**: For handling file paths and operating system interactions.\n",
    "- **typing**, **functools**, **copy**, **tqdm**: For type annotations, function tools, copying objects, and progress bars.\n"
   ],
   "metadata": {
    "collapsed": false
   },
   "id": "7f03c057c184ea0"
  },
  {
   "cell_type": "code",
   "execution_count": 14,
   "id": "030bd0e4-4aa3-491b-90e2-78238eae4c09",
   "metadata": {
    "ExecuteTime": {
     "end_time": "2024-11-22T15:55:25.883785Z",
     "start_time": "2024-11-22T15:55:25.868126Z"
    }
   },
   "outputs": [],
   "source": [
    "import torchaudio\n",
    "import matplotlib.pyplot as plt\n",
    "from mouse.utils import sound_util, visualization, data_util\n",
    "from mouse.segmentation import segmentation, GAC\n",
    "from mouse.classifier import cnn_classifier\n",
    "import pathlib\n",
    "from tqdm import tqdm\n",
    "import os"
   ]
  },
  {
   "cell_type": "markdown",
   "source": [
    "## Loading the Audio File\n",
    "We will load the audio file containing the rodent vocalizations.\n",
    "\n",
    "## Note\n",
    "Please ensure that the audio file is present in your working directory. We will also create a `SignalData` object from the audio file."
   ],
   "metadata": {
    "collapsed": false
   },
   "id": "f64eb4c99cccbc61"
  },
  {
   "cell_type": "code",
   "execution_count": 15,
   "id": "f30677c4-02c7-4460-af1e-505f4f216c29",
   "metadata": {
    "ExecuteTime": {
     "end_time": "2024-11-22T15:55:25.921478Z",
     "start_time": "2024-11-22T15:55:25.887700Z"
    }
   },
   "outputs": [],
   "source": [
    "file_path = \"long-example-rodent.wav\"\n",
    "waveform, sample_rate = torchaudio.load(file_path)\n",
    "signal_data = sound_util.SignalData(pathlib.Path(file_path))"
   ]
  },
  {
   "cell_type": "markdown",
   "source": [
    "## Generating the Spectrogram\n",
    "\n",
    "Next, we will generate a spectrogram of the audio data to visualize its frequency content over time.\n",
    "\n",
    "### Parameters\n",
    "\n",
    "**Parameters:**\n",
    "\n",
    "- `signal_data` (*sound_util.SignalData*): The signal data containing the waveform and sample rate.\n",
    "- `n_fft` (*int*, optional): The size of FFT, creates `n_fft // 2 + 1` bins. Default is `400`.\n",
    "- `win_length` (*int*, optional): Window size. Default is `n_fft`.\n",
    "- `hop_length` (*int*, optional): Length of hop between STFT windows. Default is `win_length // 2`.\n",
    "- `power` (*float*, optional): Exponent for the magnitude spectrogram. Default is `2.0`.\n",
    "- `center` (*bool*, optional): Whether to pad the input on both sides so that the `t`-th frame is centered at time `t * hop_length`. Default is `True`.\n",
    "- `pad_mode` (*str*, optional): Controls the padding method used when `center` is `True`. Default is `'reflect'`.\n",
    "- `vmax` (*float*, optional): The maximum value for the color scale in the spectrogram plot. Default is `5`.\n",
    "- `t_start` (*float*, optional): The start time (in seconds) for the spectrogram. Default is `None` (start from the beginning).\n",
    "- `t_end` (*float*, optional): The end time (in seconds) for the spectrogram. Default is `None` (go until the end)."
   ],
   "metadata": {
    "collapsed": false
   },
   "id": "e542757f195fb5e7"
  },
  {
   "cell_type": "code",
   "execution_count": 16,
   "id": "f92a0e28-51e9-438c-858c-8905600f1fdf",
   "metadata": {
    "ExecuteTime": {
     "end_time": "2024-11-22T15:55:25.944346Z",
     "start_time": "2024-11-22T15:55:25.908724Z"
    }
   },
   "outputs": [],
   "source": [
    "# Parameters for spectrogram\n",
    "n_fft = 400\n",
    "win_length = None\n",
    "hop_length = None\n",
    "power = 2.0\n",
    "center = True\n",
    "pad_mode = 'reflect'\n",
    "vmax = 5\n",
    "t_start = 6.4  # Start time in seconds\n",
    "t_end = 7.0    # End time in seconds\n",
    "\n",
    "# Set default window length and hop length if not provided\n",
    "win_length = n_fft if win_length is None else win_length\n",
    "hop_length = win_length // 2 if hop_length is None else hop_length\n",
    "\n",
    "# Create a spectrogram transform\n",
    "spectrogram_transform = torchaudio.transforms.Spectrogram(\n",
    "    n_fft=n_fft,\n",
    "    win_length=win_length,\n",
    "    hop_length=hop_length,\n",
    "    center=center,\n",
    "    pad_mode=pad_mode,\n",
    "    power=power\n",
    ")\n",
    "\n",
    "# Compute the spectrogram for the whole signal\n",
    "spec_data = sound_util.spectrogram(\n",
    "    signal_data.signal,\n",
    "    sample_rate=signal_data.sample_rate,\n",
    "    spec_calculator=spectrogram_transform,\n",
    "    n_fft=n_fft,\n",
    "    win_length=win_length,\n",
    "    hop_length=hop_length,\n",
    "    power=power\n",
    ")\n",
    "\n",
    "# Clip the spectrogram to the selected time window, if specified\n",
    "spec_data = sound_util.clip_spectrogram(\n",
    "    spec_data,\n",
    "    t_start=t_start,\n",
    "    t_end=t_end\n",
    ")\n"
   ]
  },
  {
   "cell_type": "markdown",
   "source": [
    "### Visualizing the Spectrogram\n",
    "\n",
    "We will generate the spectrogram for a specific time window.\n"
   ],
   "metadata": {
    "collapsed": false
   },
   "id": "6da1e9e2c261824b"
  },
  {
   "cell_type": "code",
   "execution_count": 17,
   "id": "7ad77718-6556-4bf6-b285-19a56f974819",
   "metadata": {
    "ExecuteTime": {
     "end_time": "2024-11-22T15:55:26.181625Z",
     "start_time": "2024-11-22T15:55:25.948102Z"
    }
   },
   "outputs": [
    {
     "data": {
      "text/plain": "<Figure size 1000x600 with 2 Axes>",
      "image/png": "[encoded data removed]"
     },
     "metadata": {},
     "output_type": "display_data"
    }
   ],
   "source": [
    "# Plot the spectrogram\n",
    "fig, ax = plt.subplots(figsize=(10, 6))\n",
    "ax.set_facecolor('#2e004f')\n",
    "spectrogram_color_mesh = visualization.draw_spectrogram(\n",
    "    spec_data,\n",
    "    ax=ax,\n",
    "    vmax=vmax\n",
    ")\n",
    "\n",
    "fig.colorbar(spectrogram_color_mesh, ax=ax, format='%+2.0f dB')\n",
    "ax.set_title('Spectrogram', color='white')\n",
    "ax.set_xlabel('Time [s]', color='white')\n",
    "ax.set_ylabel('Frequency [kHz]', color='white')\n",
    "ax.tick_params(colors='white')\n",
    "\n",
    "fig.patch.set_facecolor('white')"
   ]
  },
  {
   "cell_type": "markdown",
   "source": [
    "## Detecting USVs Using Geodesic Active Contours (GAC)\n",
    "\n",
    "We will use the Geodesic Active Contour (GAC) method to detect USVs in the spectrogram. This method allows us to segment the spectrogram and find regions that correspond to USVs.\n",
    "\n",
    "### Parameters\n",
    "\n",
    "**Parameters:**\n",
    "\n",
    "- `spec` (*sound_util.SpectrogramData*): The spectrogram data to search for USVs.\n",
    "- `min_side_length` (*int*): Minimum side length for bounding boxes. Default is `1`.\n",
    "- `filter` (*bool*): Whether to filter USVs' bounding boxes. Default is `True`.\n",
    "- `preprocessing_fn` (*Callable*, optional): Function for preprocessing the spectrogram `spec`. Default is `None`.\n",
    "- `level_set` (*Callable*, optional): Function for generating the initial level set based on preprocessed `spec`. Default is `None`.\n",
    "- `tqdm_kwargs` (*dict*, optional): Keyword arguments for the `tqdm` progress bar. Default is `None`.\n",
    "- `gac_parameters`: Additional arguments passed to `morphological_geodesic_active_contour` from `skimage.segmentation`.\n"
   ],
   "metadata": {
    "collapsed": false
   },
   "id": "67c56d1609931ea2"
  },
  {
   "cell_type": "code",
   "execution_count": 18,
   "id": "8a540a8f-2cd0-44aa-a519-8879e9e02214",
   "metadata": {
    "ExecuteTime": {
     "end_time": "2024-11-22T15:55:26.753026Z",
     "start_time": "2024-11-22T15:55:26.185740Z"
    }
   },
   "outputs": [
    {
     "name": "stderr",
     "output_type": "stream",
     "text": [
      "Detecting USVs with GAC: 231it [00:00, 483.98it/s]                         \n"
     ]
    }
   ],
   "source": [
    "# Detect USVs using GAC\n",
    "\n",
    "spec = spec_data\n",
    "min_side_length = 1\n",
    "filter_boxes = True\n",
    "preprocessing_fn = None\n",
    "level_set = None\n",
    "# level_set = GAC.ones_level_set # you can choose GAC.ones_level_set as well\n",
    "tqdm_kwargs = {\"desc\": \"Detecting USVs with GAC\"}\n",
    "gac_parameters = {\n",
    "    \"num_iter\": 230,\n",
    "    \"smoothing\": 0,\n",
    "    \"threshold\": 0.9,\n",
    "    \"balloon\": -1\n",
    "}  # Additional arguments for GAC\n",
    "\n",
    "# Set default preprocessing function if not provided\n",
    "if preprocessing_fn is None:\n",
    "    def preprocessing_fn(spec):\n",
    "        return segmentation.inverse_gaussian_gradient(spec, sigma=5, alpha=100)\n",
    "\n",
    "# Preprocess the spectrogram\n",
    "_spec = preprocessing_fn(spec.spec.numpy())\n",
    "\n",
    "# Set default level set function if not provided\n",
    "if level_set is None:\n",
    "    level_set = GAC.ones_level_set\n",
    "\n",
    "level_set_init = level_set(_spec)\n",
    "\n",
    "# Run the GAC algorithm with a progress bar\n",
    "tqdm_kwargs = tqdm_kwargs if tqdm_kwargs else {}\n",
    "with tqdm(total=gac_parameters[\"num_iter\"], **tqdm_kwargs) as pbar:\n",
    "\n",
    "    def _iter_callback(level_set):\n",
    "        pbar.update(1)\n",
    "\n",
    "    gac_parameters['iter_callback'] = _iter_callback\n",
    "\n",
    "    # Ensure no 'iterations' keyword is passed\n",
    "    if 'iterations' in gac_parameters:\n",
    "        del gac_parameters['iterations']\n",
    "\n",
    "    # Run the GAC algorithm\n",
    "    level_set_result = segmentation.morphological_geodesic_active_contour(\n",
    "        _spec, init_level_set=level_set_init, **gac_parameters)\n",
    "\n",
    "# Find bounding boxes for the detected regions\n",
    "boxes = data_util.find_bounding_boxes(level_set_result,\n",
    "                                      min_side_length=min_side_length)\n",
    "\n",
    "# Filter the bounding boxes if required\n",
    "if filter_boxes:\n",
    "    detected_squeaks = data_util.filter_boxes(spec, boxes)\n",
    "else:\n",
    "    detected_squeaks = boxes\n"
   ]
  },
  {
   "cell_type": "markdown",
   "source": [
    "### Visualizing the Detected USVs\n",
    "\n",
    "We will now visualize the detected USVs by plotting bounding boxes over the spectrogram."
   ],
   "metadata": {
    "collapsed": false
   },
   "id": "c86e6b7ad56eab83"
  },
  {
   "cell_type": "code",
   "outputs": [
    {
     "data": {
      "text/plain": "<Figure size 1000x600 with 2 Axes>",
      "image/png": "[encoded data removed]"
     },
     "metadata": {},
     "output_type": "display_data"
    }
   ],
   "source": [
    "# Plotting the detected USVs on the spectrogram\n",
    "fig, ax = plt.subplots(figsize=(10, 6))\n",
    "ax.set_facecolor('#2e004f')  # Set axes background color (dark purple)\n",
    "\n",
    "spectrogram_color_mesh = visualization.draw_spectrogram(\n",
    "    spec_data,\n",
    "    ax=ax,\n",
    "    vmax=5\n",
    ")\n",
    "\n",
    "# Draw bounding boxes around detected USVs\n",
    "for squeak_box in detected_squeaks:\n",
    "    rect = plt.Rectangle(\n",
    "        (squeak_box.t_start, squeak_box.freq_start),\n",
    "        squeak_box.t_end - squeak_box.t_start,\n",
    "        squeak_box.freq_end - squeak_box.freq_start,\n",
    "        linewidth=1,\n",
    "        edgecolor='r',  # Red color for bounding boxes\n",
    "        facecolor='none'\n",
    "    )\n",
    "    ax.add_patch(rect)\n",
    "\n",
    "fig.colorbar(spectrogram_color_mesh, ax=ax, format='%+2.0f dB')\n",
    "ax.set_title('Spectrogram with Detected USVs (GAC)', color='white')\n",
    "ax.set_xlabel('Time [s]', color='white')\n",
    "ax.set_ylabel('Frequency [kHz]', color='white')\n",
    "ax.tick_params(colors='white')\n",
    "\n",
    "fig.patch.set_facecolor('white')  # Set the figure background color to black"
   ],
   "metadata": {
    "collapsed": false,
    "ExecuteTime": {
     "end_time": "2024-11-22T15:55:26.946709Z",
     "start_time": "2024-11-22T15:55:26.758763Z"
    }
   },
   "id": "6587db1ceafe358b",
   "execution_count": 19
  },
  {
   "cell_type": "markdown",
   "source": [
    "## Classifying Detected USVs Using a CNN Model\n",
    "\n",
    "After detecting the USVs, we will classify them using a pre-trained CNN model to determine the type of vocalizations.\n",
    "\n",
    "### Loading the Pre-trained CNN Model\n",
    "\n",
    "We will use a pre-trained CNN model for classification. The model checkpoint will be downloaded if it's not already present in the cache directory.\n",
    "\n",
    "### Parameters\n",
    "\n",
    "**Parameters:**\n",
    "\n",
    "- `spec_data` (*sound_util.SpectrogramData*): The spectrogram data.\n",
    "- `annotations` (*List[data_util.SqueakBox]*): List of detected USVs' bounding boxes.\n",
    "- `model_name` (*str*): The name of the pre-trained model to use.\n",
    "- `cache_dir` (*pathlib.Path*): The directory where the model checkpoint is cached.\n",
    "- `batch_size` (*int*, optional): The batch size for processing. Default is `4`.\n",
    "- `confidence_threshold` (*float*, optional): The confidence threshold for predictions. Default is `-1` (no threshold).\n",
    "- `silent` (*bool*, optional): If `True`, suppresses output. Default is `False`.\n",
    "- `callback` (*Callable*, optional): A callback function to be called after classification. Default is `None`."
   ],
   "metadata": {
    "collapsed": false
   },
   "id": "161a02a146379acc"
  },
  {
   "cell_type": "code",
   "outputs": [
    {
     "name": "stderr",
     "output_type": "stream",
     "text": [
      "Lightning automatically upgraded your loaded checkpoint from v1.6.3 to v2.2.2. To apply the upgrade to your files permanently, run `python -m pytorch_lightning.utilities.upgrade_checkpoint model_cache/cnn_binary_v1_custom.ckpt`\n",
      "100%|██████████| 4/4 [00:00<00:00, 228.56it/s]\n"
     ]
    }
   ],
   "source": [
    "# Define the pre-trained models and their checkpoints\n",
    "PRETRAINED_MODELS_CHECKPOINTS = {\n",
    "    \"cnn-binary-v1-custom\": {\n",
    "        \"url\": \"https://zenodo.org/record/6868406/files/cnn_binary_v1_custom.ckpt\",\n",
    "        \"filename\": \"cnn_binary_v1_custom.ckpt\",\n",
    "    }\n",
    "}\n",
    "\n",
    "# Specify the cache directory and model name\n",
    "cache_dir = pathlib.Path(\"./model_cache\")\n",
    "model_name = \"cnn-binary-v1-custom\"\n",
    "\n",
    "# Get the model checkpoint path\n",
    "model_path = cache_dir.joinpath(PRETRAINED_MODELS_CHECKPOINTS[model_name][\"filename\"])\n",
    "\n",
    "# Download the model if not present\n",
    "if not model_path.exists():\n",
    "    os.makedirs(str(cache_dir), exist_ok=True)\n",
    "    data_util.download_file(PRETRAINED_MODELS_CHECKPOINTS[model_name][\"url\"], output_path=str(model_path))\n",
    "\n",
    "# Load the pre-trained model\n",
    "model = cnn_classifier.USVClassifier.load_from_checkpoint(str(model_path), inference_only=True)\n",
    "\n",
    "# Classify the annotations using the model\n",
    "classified_squeaks = model.predict_for_annotations(\n",
    "    spec_data,\n",
    "    annotations=detected_squeaks,\n",
    "    batch_size=4,\n",
    "    confidence_threshold=-1,\n",
    "    silent=False,\n",
    "    callback=None,\n",
    ")\n"
   ],
   "metadata": {
    "collapsed": false,
    "ExecuteTime": {
     "end_time": "2024-11-22T15:55:27.201072Z",
     "start_time": "2024-11-22T15:55:26.947670Z"
    }
   },
   "id": "4aeac45ffb552a74",
   "execution_count": 20
  },
  {
   "cell_type": "markdown",
   "source": [
    "### Visualizing the Classified USVs\n",
    "\n",
    "We will visualize the classified USVs by plotting bounding boxes with different colors based on their classification. Remember that you may choose different  labels for the classification."
   ],
   "metadata": {
    "collapsed": false
   },
   "id": "ab988612f8f078e3"
  },
  {
   "cell_type": "code",
   "outputs": [
    {
     "data": {
      "text/plain": "<Figure size 1000x600 with 2 Axes>",
      "image/png": "[encoded data removed]"
     },
     "metadata": {},
     "output_type": "display_data"
    }
   ],
   "source": [
    "# Plotting the classified USVs on the spectrogram\n",
    "fig, ax = plt.subplots(figsize=(10, 6))\n",
    "ax.set_facecolor('#2e004f')  # Set axes background color (dark purple)\n",
    "\n",
    "spectrogram_color_mesh = visualization.draw_spectrogram(\n",
    "    spec_data,\n",
    "    ax=ax,\n",
    "    vmax=5\n",
    ")\n",
    "\n",
    "# Draw bounding boxes around classified USVs with different colors\n",
    "for squeak_box in classified_squeaks:\n",
    "    color = 'b' if squeak_box.label == \"call\" else 'g'  # Blue for 'call', green otherwise\n",
    "    rect = plt.Rectangle(\n",
    "        (squeak_box.t_start, squeak_box.freq_start),\n",
    "        squeak_box.t_end - squeak_box.t_start,\n",
    "        squeak_box.freq_end - squeak_box.freq_start,\n",
    "        linewidth=1,\n",
    "        edgecolor=color,\n",
    "        facecolor='none'\n",
    "    )\n",
    "    ax.add_patch(rect)\n",
    "\n",
    "fig.colorbar(spectrogram_color_mesh, ax=ax, format='%+2.0f dB')\n",
    "ax.set_title('Spectrogram with Classified USVs (CNN)', color='white')\n",
    "ax.set_xlabel('Time [s]', color='white')\n",
    "ax.set_ylabel('Frequency [kHz]', color='white')\n",
    "ax.tick_params(colors='white')\n",
    "\n",
    "fig.patch.set_facecolor('white')  # Set the figure background color to black"
   ],
   "metadata": {
    "collapsed": false,
    "ExecuteTime": {
     "end_time": "2024-11-22T15:55:27.448952Z",
     "start_time": "2024-11-22T15:55:27.207183Z"
    }
   },
   "id": "75fdb217739878f8",
   "execution_count": 21
  },
  {
   "cell_type": "markdown",
   "source": [
    "## Conclusion\n",
    "\n",
    "In this notebook, we demonstrated how to detect and classify ultrasonic vocalizations (USVs) in rodent audio recordings. We:\n",
    "\n",
    "- Loaded and visualized the audio data using spectrograms.\n",
    "- Detected USVs using Geodesic Active Contours (GAC).\n",
    "- Classified the detected USVs using a pre-trained CNN model.\n",
    "- Visualized the results by plotting bounding boxes over the spectrogram.\n",
    "\n",
    "This process can be used to analyze rodent vocalizations in research and study their behavior."
   ],
   "metadata": {
    "collapsed": false
   },
   "id": "7dfeeca2ec914295"
  }
 ],
 "metadata": {
  "kernelspec": {
   "display_name": "MoUSE-GUI",
   "language": "python",
   "name": "mouse-gui-py3.11"
  },
  "language_info": {
   "codemirror_mode": {
    "name": "ipython",
    "version": 3
   },
   "file_extension": ".py",
   "mimetype": "text/x-python",
   "name": "python",
   "nbconvert_exporter": "python",
   "pygments_lexer": "ipython3",
   "version": "3.11.8"
  }
 },
 "nbformat": 4,
 "nbformat_minor": 5
}
